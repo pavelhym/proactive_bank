{
 "cells": [
  {
   "cell_type": "code",
   "execution_count": 74,
   "metadata": {},
   "outputs": [],
   "source": [
    "from enum import unique\n",
    "import pandas as pd\n",
    "import matplotlib.pyplot as plt\n",
    "import numpy as np\n",
    "from collections import Counter"
   ]
  },
  {
   "cell_type": "code",
   "execution_count": 11,
   "metadata": {},
   "outputs": [
    {
     "data": {
      "text/html": [
       "<div>\n",
       "<style scoped>\n",
       "    .dataframe tbody tr th:only-of-type {\n",
       "        vertical-align: middle;\n",
       "    }\n",
       "\n",
       "    .dataframe tbody tr th {\n",
       "        vertical-align: top;\n",
       "    }\n",
       "\n",
       "    .dataframe thead th {\n",
       "        text-align: right;\n",
       "    }\n",
       "</style>\n",
       "<table border=\"1\" class=\"dataframe\">\n",
       "  <thead>\n",
       "    <tr style=\"text-align: right;\">\n",
       "      <th></th>\n",
       "      <th>REGNUM</th>\n",
       "      <th>date</th>\n",
       "      <th>group</th>\n",
       "      <th>mcc</th>\n",
       "      <th>PRC_AMT</th>\n",
       "    </tr>\n",
       "  </thead>\n",
       "  <tbody>\n",
       "    <tr>\n",
       "      <th>0</th>\n",
       "      <td>913</td>\n",
       "      <td>2020-01-01</td>\n",
       "      <td>food</td>\n",
       "      <td>16321</td>\n",
       "      <td>1424.68</td>\n",
       "    </tr>\n",
       "    <tr>\n",
       "      <th>1</th>\n",
       "      <td>913</td>\n",
       "      <td>2020-01-02</td>\n",
       "      <td>food</td>\n",
       "      <td>5814</td>\n",
       "      <td>199.00</td>\n",
       "    </tr>\n",
       "    <tr>\n",
       "      <th>2</th>\n",
       "      <td>913</td>\n",
       "      <td>2020-01-02</td>\n",
       "      <td>health</td>\n",
       "      <td>5912</td>\n",
       "      <td>1438.00</td>\n",
       "    </tr>\n",
       "    <tr>\n",
       "      <th>3</th>\n",
       "      <td>913</td>\n",
       "      <td>2020-01-02</td>\n",
       "      <td>money</td>\n",
       "      <td>6011</td>\n",
       "      <td>2000.00</td>\n",
       "    </tr>\n",
       "    <tr>\n",
       "      <th>4</th>\n",
       "      <td>913</td>\n",
       "      <td>2020-01-03</td>\n",
       "      <td>food</td>\n",
       "      <td>5814</td>\n",
       "      <td>213.00</td>\n",
       "    </tr>\n",
       "    <tr>\n",
       "      <th>...</th>\n",
       "      <td>...</td>\n",
       "      <td>...</td>\n",
       "      <td>...</td>\n",
       "      <td>...</td>\n",
       "      <td>...</td>\n",
       "    </tr>\n",
       "    <tr>\n",
       "      <th>3469213</th>\n",
       "      <td>4300893</td>\n",
       "      <td>2020-07-17</td>\n",
       "      <td>money</td>\n",
       "      <td>19084</td>\n",
       "      <td>12000.00</td>\n",
       "    </tr>\n",
       "    <tr>\n",
       "      <th>3469214</th>\n",
       "      <td>4300893</td>\n",
       "      <td>2020-07-19</td>\n",
       "      <td>health</td>\n",
       "      <td>5912</td>\n",
       "      <td>298.00</td>\n",
       "    </tr>\n",
       "    <tr>\n",
       "      <th>3469215</th>\n",
       "      <td>4300893</td>\n",
       "      <td>2020-07-19</td>\n",
       "      <td>money</td>\n",
       "      <td>26144</td>\n",
       "      <td>4600.00</td>\n",
       "    </tr>\n",
       "    <tr>\n",
       "      <th>3469216</th>\n",
       "      <td>4300893</td>\n",
       "      <td>2020-07-20</td>\n",
       "      <td>food</td>\n",
       "      <td>5411</td>\n",
       "      <td>1012.70</td>\n",
       "    </tr>\n",
       "    <tr>\n",
       "      <th>3469217</th>\n",
       "      <td>4300893</td>\n",
       "      <td>2020-07-20</td>\n",
       "      <td>money</td>\n",
       "      <td>13072</td>\n",
       "      <td>700.00</td>\n",
       "    </tr>\n",
       "  </tbody>\n",
       "</table>\n",
       "<p>3469218 rows × 5 columns</p>\n",
       "</div>"
      ],
      "text/plain": [
       "          REGNUM        date   group    mcc   PRC_AMT\n",
       "0            913  2020-01-01    food  16321   1424.68\n",
       "1            913  2020-01-02    food   5814    199.00\n",
       "2            913  2020-01-02  health   5912   1438.00\n",
       "3            913  2020-01-02   money   6011   2000.00\n",
       "4            913  2020-01-03    food   5814    213.00\n",
       "...          ...         ...     ...    ...       ...\n",
       "3469213  4300893  2020-07-17   money  19084  12000.00\n",
       "3469214  4300893  2020-07-19  health   5912    298.00\n",
       "3469215  4300893  2020-07-19   money  26144   4600.00\n",
       "3469216  4300893  2020-07-20    food   5411   1012.70\n",
       "3469217  4300893  2020-07-20   money  13072    700.00\n",
       "\n",
       "[3469218 rows x 5 columns]"
      ]
     },
     "execution_count": 11,
     "metadata": {},
     "output_type": "execute_result"
    }
   ],
   "source": [
    "first = pd.read_csv('storage/data_with_groups.csv')\n",
    "first.group.unique()\n",
    "first_noduplicates = first.groupby(['REGNUM', 'date', 'group']).sum().reset_index()\n",
    "first_noduplicates"
   ]
  },
  {
   "cell_type": "code",
   "execution_count": 12,
   "metadata": {},
   "outputs": [],
   "source": [
    "#make overall consumption\n",
    "first_overall_consuption = first.groupby(['date', 'group']).sum().reset_index()[['date', 'group', 'PRC_AMT']]\n",
    "#make for food\n",
    "df_wide_food=pd.pivot(first_noduplicates[first_noduplicates['group']== 'food'], index=['date'], columns = 'REGNUM',values = 'PRC_AMT').fillna(0) #Reshape from long to wide\n"
   ]
  },
  {
   "cell_type": "code",
   "execution_count": 13,
   "metadata": {},
   "outputs": [
    {
     "data": {
      "image/png": "[encoded data removed]",
      "text/plain": [
       "<Figure size 432x288 with 1 Axes>"
      ]
     },
     "metadata": {
      "needs_background": "light"
     },
     "output_type": "display_data"
    }
   ],
   "source": [
    "#plot for all categories\n",
    "for group in first_overall_consuption['group'].unique().tolist():\n",
    "    if str(group) != 'money':\n",
    "        plt.plot(first_overall_consuption[first_overall_consuption['group']==str(group)]['PRC_AMT'].rolling(window=20).mean(), label = str(group))\n",
    "plt.legend()    \n",
    "plt.show()\n"
   ]
  },
  {
   "cell_type": "code",
   "execution_count": 113,
   "metadata": {},
   "outputs": [],
   "source": [
    "#functions\n",
    "def Norm01(x):\n",
    "    mi=np.nanmin(x)\n",
    "    ma=np.nanmax(np.array(x)-mi)\n",
    "    if ma>0.:\n",
    "        x_n=(np.array(x)-mi)/ma\n",
    "        return x_n, mi, ma\n",
    "    else:\n",
    "        return np.zeros(len(x)), mi, ma\n",
    "    \n",
    "def  MovingAverage(x, numb=10):\n",
    "    n=len(x)//numb\n",
    "    ma=list(x[:n])\n",
    "    for j in range(len(x)-n):\n",
    "        ma.append(np.mean(x[j:j+n]))\n",
    "    return np.array(ma)"
   ]
  },
  {
   "cell_type": "code",
   "execution_count": 15,
   "metadata": {},
   "outputs": [
    {
     "data": {
      "image/png": "[encoded data removed]",
      "text/plain": [
       "<Figure size 432x288 with 1 Axes>"
      ]
     },
     "metadata": {
      "needs_background": "light"
     },
     "output_type": "display_data"
    }
   ],
   "source": [
    "#plot food and all customers\n",
    "\n",
    "plt.plot(MovingAverage(Norm01(first_overall_consuption[first_overall_consuption['group']==\"food\"]['PRC_AMT'])[0], numb = 20)\\\n",
    "    ,label = 'food'\\\n",
    "    ,linewidth=2, color='red')\n",
    "\n",
    "for customer in df_wide_food.columns.tolist()[0:100]:\n",
    "    plt.plot(MovingAverage(Norm01(df_wide_food[customer])[0], numb = 20), alpha=0.3, color = 'blue')\n",
    "\n",
    "plt.legend()\n",
    "plt.show()"
   ]
  },
  {
   "cell_type": "code",
   "execution_count": 16,
   "metadata": {},
   "outputs": [],
   "source": [
    "#smooth data\n",
    "df_wide_food_smoothed = df_wide_food.apply(lambda x : MovingAverage(Norm01(x)[0]\\\n",
    "    , numb = 10))\n"
   ]
  },
  {
   "cell_type": "code",
   "execution_count": 19,
   "metadata": {},
   "outputs": [],
   "source": []
  },
  {
   "cell_type": "markdown",
   "metadata": {},
   "source": [
    "# Clustering"
   ]
  },
  {
   "cell_type": "code",
   "execution_count": 10,
   "metadata": {},
   "outputs": [
    {
     "name": "stderr",
     "output_type": "stream",
     "text": [
      "[Parallel(n_jobs=1)]: Using backend SequentialBackend with 1 concurrent workers.\n",
      "[Parallel(n_jobs=1)]: Done 1453 out of 1453 | elapsed:    1.5s finished\n",
      "[Parallel(n_jobs=1)]: Using backend SequentialBackend with 1 concurrent workers.\n",
      "[Parallel(n_jobs=1)]: Done 4359 out of 4359 | elapsed:    1.3s finished\n",
      "[Parallel(n_jobs=1)]: Using backend SequentialBackend with 1 concurrent workers.\n",
      "[Parallel(n_jobs=1)]: Done 4359 out of 4359 | elapsed:    1.4s finished\n",
      "[Parallel(n_jobs=1)]: Using backend SequentialBackend with 1 concurrent workers.\n",
      "[Parallel(n_jobs=1)]: Done 4359 out of 4359 | elapsed:    1.3s finished\n",
      "[Parallel(n_jobs=1)]: Using backend SequentialBackend with 1 concurrent workers.\n",
      "[Parallel(n_jobs=1)]: Done 4359 out of 4359 | elapsed:    1.4s finished\n",
      "[Parallel(n_jobs=1)]: Using backend SequentialBackend with 1 concurrent workers.\n",
      "[Parallel(n_jobs=1)]: Done 7265 out of 7265 | elapsed:    2.3s finished\n"
     ]
    },
    {
     "name": "stdout",
     "output_type": "stream",
     "text": [
      "0.515 --> "
     ]
    },
    {
     "name": "stderr",
     "output_type": "stream",
     "text": [
      "[Parallel(n_jobs=1)]: Using backend SequentialBackend with 1 concurrent workers.\n",
      "[Parallel(n_jobs=1)]: Done 7265 out of 7265 | elapsed:    2.3s finished\n"
     ]
    },
    {
     "name": "stdout",
     "output_type": "stream",
     "text": [
      "0.312 --> "
     ]
    },
    {
     "name": "stderr",
     "output_type": "stream",
     "text": [
      "[Parallel(n_jobs=1)]: Using backend SequentialBackend with 1 concurrent workers.\n",
      "[Parallel(n_jobs=1)]: Done 7265 out of 7265 | elapsed:    2.3s finished\n"
     ]
    },
    {
     "name": "stdout",
     "output_type": "stream",
     "text": [
      "0.295 --> "
     ]
    },
    {
     "name": "stderr",
     "output_type": "stream",
     "text": [
      "[Parallel(n_jobs=1)]: Using backend SequentialBackend with 1 concurrent workers.\n",
      "[Parallel(n_jobs=1)]: Done 7265 out of 7265 | elapsed:    2.3s finished\n"
     ]
    },
    {
     "name": "stdout",
     "output_type": "stream",
     "text": [
      "0.289 --> "
     ]
    },
    {
     "name": "stderr",
     "output_type": "stream",
     "text": [
      "[Parallel(n_jobs=1)]: Using backend SequentialBackend with 1 concurrent workers.\n",
      "[Parallel(n_jobs=1)]: Done 7265 out of 7265 | elapsed:    2.5s finished\n"
     ]
    },
    {
     "name": "stdout",
     "output_type": "stream",
     "text": [
      "0.287 --> "
     ]
    },
    {
     "name": "stderr",
     "output_type": "stream",
     "text": [
      "[Parallel(n_jobs=1)]: Using backend SequentialBackend with 1 concurrent workers.\n",
      "[Parallel(n_jobs=1)]: Done 7265 out of 7265 | elapsed:    2.4s finished\n"
     ]
    },
    {
     "name": "stdout",
     "output_type": "stream",
     "text": [
      "0.285 --> "
     ]
    },
    {
     "name": "stderr",
     "output_type": "stream",
     "text": [
      "[Parallel(n_jobs=1)]: Using backend SequentialBackend with 1 concurrent workers.\n",
      "[Parallel(n_jobs=1)]: Done 7265 out of 7265 | elapsed:    2.3s finished\n"
     ]
    },
    {
     "name": "stdout",
     "output_type": "stream",
     "text": [
      "0.284 --> "
     ]
    },
    {
     "name": "stderr",
     "output_type": "stream",
     "text": [
      "[Parallel(n_jobs=1)]: Using backend SequentialBackend with 1 concurrent workers.\n",
      "[Parallel(n_jobs=1)]: Done 7265 out of 7265 | elapsed:    2.4s finished\n"
     ]
    },
    {
     "name": "stdout",
     "output_type": "stream",
     "text": [
      "0.284 --> "
     ]
    },
    {
     "name": "stderr",
     "output_type": "stream",
     "text": [
      "[Parallel(n_jobs=1)]: Using backend SequentialBackend with 1 concurrent workers.\n",
      "[Parallel(n_jobs=1)]: Done 7265 out of 7265 | elapsed:    2.3s finished\n"
     ]
    },
    {
     "name": "stdout",
     "output_type": "stream",
     "text": [
      "0.283 --> "
     ]
    },
    {
     "name": "stderr",
     "output_type": "stream",
     "text": [
      "[Parallel(n_jobs=1)]: Using backend SequentialBackend with 1 concurrent workers.\n",
      "[Parallel(n_jobs=1)]: Done 7265 out of 7265 | elapsed:    2.3s finished\n"
     ]
    },
    {
     "name": "stdout",
     "output_type": "stream",
     "text": [
      "0.283 --> \n"
     ]
    },
    {
     "name": "stderr",
     "output_type": "stream",
     "text": [
      "[Parallel(n_jobs=1)]: Using backend SequentialBackend with 1 concurrent workers.\n",
      "[Parallel(n_jobs=1)]: Done 7265 out of 7265 | elapsed:    2.3s finished\n",
      "c:\\Users\\Pablo\\AppData\\Local\\Programs\\Python\\Python310\\lib\\site-packages\\tslearn\\utils\\utils.py:88: UserWarning: 2-Dimensional data passed. Assuming these are 1453 1-dimensional timeseries\n",
      "  warnings.warn('2-Dimensional data passed. Assuming these are '\n",
      "[Parallel(n_jobs=1)]: Using backend SequentialBackend with 1 concurrent workers.\n",
      "[Parallel(n_jobs=1)]: Done 7265 out of 7265 | elapsed:    2.4s finished\n"
     ]
    },
    {
     "data": {
      "image/png": "[encoded data removed]",
      "text/plain": [
       "<Figure size 432x288 with 1 Axes>"
      ]
     },
     "metadata": {
      "needs_background": "light"
     },
     "output_type": "display_data"
    }
   ],
   "source": [
    "clusters_num = 5\n",
    "\n",
    "from tslearn.clustering import TimeSeriesKMeans\n",
    "\n",
    "\n",
    "df_wide_food_smoothed_thin = df_wide_food_smoothed.sample(frac=0.20,axis='columns')\n",
    "\n",
    "model = TimeSeriesKMeans(n_clusters=clusters_num, metric=\"dtw\",\n",
    "                         max_iter=10, random_state=2022, verbose=1)\n",
    "\n",
    "clustered = model.fit(np.array(df_wide_food_smoothed_thin.transpose()))\n",
    "\n",
    "array_data = np.array(df_wide_food_smoothed_thin.transpose())\n",
    "\n",
    "clusters = model.predict(np.array(df_wide_food_smoothed_thin.transpose()))\n",
    "\n",
    "from collections import Counter\n",
    "\n",
    "len(clusters)\n",
    "Counter(clusters)\n",
    "\n",
    "\n",
    "def indexes(iterable, obj):\n",
    "    return (index for index, elem in enumerate(iterable) if elem == obj)\n",
    "\n",
    "\n",
    "for group in range(clusters_num):\n",
    "    \n",
    "    temp = array_data[list(indexes(clusters.tolist(), group))]\n",
    "    series = np.mean(temp,axis=0)\n",
    "    plt.plot(series, label = str(group))\n",
    "\n",
    "\n",
    "#plt.plot(MovingAverage(Norm01(first_overall_consuption[first_overall_consuption['group']==\"food\"]['PRC_AMT'])[0], numb = 20)\\\n",
    "#    ,label = 'food'\\\n",
    "#    ,linewidth=2, color='red')\n",
    "\n",
    "plt.axvline(x=87, color='b', ls='--', alpha=0.5, label='crisis')\n",
    "plt.legend()\n",
    "plt.show()\n"
   ]
  },
  {
   "cell_type": "code",
   "execution_count": 11,
   "metadata": {},
   "outputs": [
    {
     "data": {
      "image/png": "[encoded data removed]",
      "text/plain": [
       "<Figure size 432x288 with 1 Axes>"
      ]
     },
     "metadata": {
      "needs_background": "light"
     },
     "output_type": "display_data"
    },
    {
     "data": {
      "text/plain": [
       "[<matplotlib.lines.Line2D at 0x27438a05930>]"
      ]
     },
     "execution_count": 11,
     "metadata": {},
     "output_type": "execute_result"
    },
    {
     "data": {
      "image/png": "[encoded data removed]",
      "text/plain": [
       "<Figure size 432x288 with 1 Axes>"
      ]
     },
     "metadata": {
      "needs_background": "light"
     },
     "output_type": "display_data"
    }
   ],
   "source": [
    "strange_cluster = array_data[list(indexes(clusters.tolist(), 4))]\n",
    "for i in range(len(strange_cluster)):\n",
    "    plt.plot(strange_cluster[i])\n",
    "plt.show()\n",
    "\n",
    "plt.plot(strange_cluster[10])"
   ]
  },
  {
   "cell_type": "markdown",
   "metadata": {},
   "source": [
    "## Cut"
   ]
  },
  {
   "cell_type": "code",
   "execution_count": 12,
   "metadata": {},
   "outputs": [
    {
     "name": "stderr",
     "output_type": "stream",
     "text": [
      "[Parallel(n_jobs=1)]: Using backend SequentialBackend with 1 concurrent workers.\n",
      "[Parallel(n_jobs=1)]: Done 7265 out of 7265 | elapsed:    0.5s finished\n",
      "[Parallel(n_jobs=1)]: Using backend SequentialBackend with 1 concurrent workers.\n",
      "[Parallel(n_jobs=1)]: Done 21795 out of 21795 | elapsed:    2.0s finished\n",
      "[Parallel(n_jobs=1)]: Using backend SequentialBackend with 1 concurrent workers.\n",
      "[Parallel(n_jobs=1)]: Done 21795 out of 21795 | elapsed:    1.9s finished\n",
      "[Parallel(n_jobs=1)]: Using backend SequentialBackend with 1 concurrent workers.\n",
      "[Parallel(n_jobs=1)]: Done 21795 out of 21795 | elapsed:    2.0s finished\n",
      "[Parallel(n_jobs=1)]: Using backend SequentialBackend with 1 concurrent workers.\n",
      "[Parallel(n_jobs=1)]: Done 21795 out of 21795 | elapsed:    1.9s finished\n",
      "[Parallel(n_jobs=1)]: Using backend SequentialBackend with 1 concurrent workers.\n",
      "[Parallel(n_jobs=1)]: Done 36325 out of 36325 | elapsed:    3.4s finished\n"
     ]
    },
    {
     "name": "stdout",
     "output_type": "stream",
     "text": [
      "0.103 --> "
     ]
    },
    {
     "name": "stderr",
     "output_type": "stream",
     "text": [
      "[Parallel(n_jobs=1)]: Using backend SequentialBackend with 1 concurrent workers.\n",
      "[Parallel(n_jobs=1)]: Done 36325 out of 36325 | elapsed:    3.6s finished\n"
     ]
    },
    {
     "name": "stdout",
     "output_type": "stream",
     "text": [
      "0.044 --> "
     ]
    },
    {
     "name": "stderr",
     "output_type": "stream",
     "text": [
      "[Parallel(n_jobs=1)]: Using backend SequentialBackend with 1 concurrent workers.\n",
      "[Parallel(n_jobs=1)]: Done 36325 out of 36325 | elapsed:    3.6s finished\n"
     ]
    },
    {
     "name": "stdout",
     "output_type": "stream",
     "text": [
      "0.042 --> "
     ]
    },
    {
     "name": "stderr",
     "output_type": "stream",
     "text": [
      "[Parallel(n_jobs=1)]: Using backend SequentialBackend with 1 concurrent workers.\n",
      "[Parallel(n_jobs=1)]: Done 36325 out of 36325 | elapsed:    3.6s finished\n"
     ]
    },
    {
     "name": "stdout",
     "output_type": "stream",
     "text": [
      "0.040 --> "
     ]
    },
    {
     "name": "stderr",
     "output_type": "stream",
     "text": [
      "[Parallel(n_jobs=1)]: Using backend SequentialBackend with 1 concurrent workers.\n",
      "[Parallel(n_jobs=1)]: Done 36325 out of 36325 | elapsed:    3.6s finished\n"
     ]
    },
    {
     "name": "stdout",
     "output_type": "stream",
     "text": [
      "0.040 --> "
     ]
    },
    {
     "name": "stderr",
     "output_type": "stream",
     "text": [
      "[Parallel(n_jobs=1)]: Using backend SequentialBackend with 1 concurrent workers.\n",
      "[Parallel(n_jobs=1)]: Done 36325 out of 36325 | elapsed:    3.7s finished\n"
     ]
    },
    {
     "name": "stdout",
     "output_type": "stream",
     "text": [
      "0.039 --> "
     ]
    },
    {
     "name": "stderr",
     "output_type": "stream",
     "text": [
      "[Parallel(n_jobs=1)]: Using backend SequentialBackend with 1 concurrent workers.\n",
      "[Parallel(n_jobs=1)]: Done 36325 out of 36325 | elapsed:    3.7s finished\n"
     ]
    },
    {
     "name": "stdout",
     "output_type": "stream",
     "text": [
      "0.038 --> "
     ]
    },
    {
     "name": "stderr",
     "output_type": "stream",
     "text": [
      "[Parallel(n_jobs=1)]: Using backend SequentialBackend with 1 concurrent workers.\n",
      "[Parallel(n_jobs=1)]: Done 36325 out of 36325 | elapsed:    3.6s finished\n"
     ]
    },
    {
     "name": "stdout",
     "output_type": "stream",
     "text": [
      "0.038 --> "
     ]
    },
    {
     "name": "stderr",
     "output_type": "stream",
     "text": [
      "[Parallel(n_jobs=1)]: Using backend SequentialBackend with 1 concurrent workers.\n",
      "[Parallel(n_jobs=1)]: Done 36325 out of 36325 | elapsed:    3.6s finished\n"
     ]
    },
    {
     "name": "stdout",
     "output_type": "stream",
     "text": [
      "0.038 --> "
     ]
    },
    {
     "name": "stderr",
     "output_type": "stream",
     "text": [
      "[Parallel(n_jobs=1)]: Using backend SequentialBackend with 1 concurrent workers.\n",
      "[Parallel(n_jobs=1)]: Done 36325 out of 36325 | elapsed:    3.6s finished\n"
     ]
    },
    {
     "name": "stdout",
     "output_type": "stream",
     "text": [
      "0.038 --> \n"
     ]
    },
    {
     "name": "stderr",
     "output_type": "stream",
     "text": [
      "[Parallel(n_jobs=1)]: Using backend SequentialBackend with 1 concurrent workers.\n",
      "[Parallel(n_jobs=1)]: Done 36325 out of 36325 | elapsed:    3.6s finished\n",
      "c:\\Users\\Pablo\\AppData\\Local\\Programs\\Python\\Python310\\lib\\site-packages\\tslearn\\utils\\utils.py:88: UserWarning: 2-Dimensional data passed. Assuming these are 7265 1-dimensional timeseries\n",
      "  warnings.warn('2-Dimensional data passed. Assuming these are '\n",
      "[Parallel(n_jobs=1)]: Using backend SequentialBackend with 1 concurrent workers.\n",
      "[Parallel(n_jobs=1)]: Done 36325 out of 36325 | elapsed:    3.5s finished\n"
     ]
    },
    {
     "data": {
      "text/plain": [
       "Counter({4: 2810, 0: 1292, 3: 1794, 1: 553, 2: 816})"
      ]
     },
     "execution_count": 12,
     "metadata": {},
     "output_type": "execute_result"
    }
   ],
   "source": [
    "clusters_num = 5\n",
    "\n",
    "\n",
    "df_wide_food_smoothed_cut = df_wide_food_smoothed[50:150]\n",
    "\n",
    "model = TimeSeriesKMeans(n_clusters=clusters_num, metric=\"dtw\",\n",
    "                         max_iter=10, random_state=2022, verbose=1)\n",
    "\n",
    "clustered_cut = model.fit(np.array(df_wide_food_smoothed_cut.transpose()))\n",
    "\n",
    "array_data_cut = np.array(df_wide_food_smoothed_cut.transpose())\n",
    "\n",
    "clusters_cut = model.predict(np.array(df_wide_food_smoothed_cut.transpose()))\n",
    "\n",
    "from collections import Counter\n",
    "\n",
    "len(clusters_cut)\n",
    "Counter(clusters_cut)"
   ]
  },
  {
   "cell_type": "code",
   "execution_count": 14,
   "metadata": {},
   "outputs": [
    {
     "data": {
      "image/png": "[encoded data removed]",
      "text/plain": [
       "<Figure size 432x288 with 1 Axes>"
      ]
     },
     "metadata": {
      "needs_background": "light"
     },
     "output_type": "display_data"
    }
   ],
   "source": [
    "def indexes(iterable, obj):\n",
    "    return (index for index, elem in enumerate(iterable) if elem == obj)\n",
    "\n",
    "\n",
    "\n",
    "groups = []\n",
    "for group in range(5):\n",
    "    \n",
    "    temp = array_data_cut[list(indexes(clusters_cut.tolist(), group))]\n",
    "    series = np.mean(temp,axis=0)\n",
    "    plt.plot(series, label = str(group))\n",
    "    groups.append(series)\n",
    "\n",
    "#plt.plot(MovingAverage(Norm01(first_overall_consuption[first_overall_consuption['group']==\"food\"]['PRC_AMT'][50:150])[0], numb = 20)\\\n",
    "#    ,label = 'food'\\\n",
    "#    ,linewidth=2, color='red')\n",
    "\n",
    "plt.axvline(x=40, color='b', ls='--', alpha=0.5, label='crisis')\n",
    "plt.legend()\n",
    "plt.show()"
   ]
  },
  {
   "cell_type": "code",
   "execution_count": 15,
   "metadata": {},
   "outputs": [
    {
     "data": {
      "image/png": "[encoded data removed]",
      "text/plain": [
       "<Figure size 432x288 with 1 Axes>"
      ]
     },
     "metadata": {
      "needs_background": "light"
     },
     "output_type": "display_data"
    },
    {
     "data": {
      "text/plain": [
       "[<matplotlib.lines.Line2D at 0x274398ed900>]"
      ]
     },
     "execution_count": 15,
     "metadata": {},
     "output_type": "execute_result"
    },
    {
     "data": {
      "image/png": "[encoded data removed]",
      "text/plain": [
       "<Figure size 432x288 with 1 Axes>"
      ]
     },
     "metadata": {
      "needs_background": "light"
     },
     "output_type": "display_data"
    }
   ],
   "source": [
    "strange_cluster_cut = array_data_cut[list(indexes(clusters_cut.tolist(), 2))]\n",
    "for i in range(len(strange_cluster_cut)):\n",
    "    plt.plot(strange_cluster_cut[i])\n",
    "plt.show()\n",
    "\n",
    "\n",
    "plt.plot(strange_cluster_cut[30])"
   ]
  },
  {
   "cell_type": "markdown",
   "metadata": {},
   "source": [
    "### Tests"
   ]
  },
  {
   "cell_type": "code",
   "execution_count": 4,
   "metadata": {},
   "outputs": [],
   "source": [
    "from Libraries.pymssa import MSSA\n",
    "\n",
    "import statsmodels.api as sm\n",
    "import Libraries\n",
    "from Libraries.Autoregr import VARModel\n",
    "from Libraries.Util import Norm01\n",
    "from Libraries.Util import Nback\n",
    "from Libraries.Util import Metr\n",
    "from Libraries.Util import MovingAverage"
   ]
  },
  {
   "cell_type": "code",
   "execution_count": 5,
   "metadata": {},
   "outputs": [],
   "source": [
    "def VARTest(x,y,maxlag=52):\n",
    "    b=len(x)-6\n",
    "    fwd=6\n",
    "    score=200\n",
    "    lag=0    \n",
    "    for l in range(maxlag):\n",
    "        x1,mi,ma=Norm01(x)\n",
    "        x1=x1[l:]\n",
    "        y1,_,_=Norm01(y)\n",
    "        y1=pd.Series(y1).shift(l)[l:]\n",
    "        vec=pd.DataFrame({'reg':x1, 'prd':y1})\n",
    "        x_test=Nback(VARModel(vec[:b],fwd), mi,ma)\n",
    "        d = Metr(x[b:b+fwd], x_test)\n",
    "        if d[2]<score:\n",
    "            score=d[2]\n",
    "            lag=l\n",
    "    return score, lag"
   ]
  },
  {
   "cell_type": "code",
   "execution_count": 18,
   "metadata": {},
   "outputs": [],
   "source": [
    "food_overall = MovingAverage(Norm01(first_overall_consuption[first_overall_consuption['group']==\"food\"]['PRC_AMT'][50:150])[0], numb = 20)\n",
    "\n",
    "data = pd.DataFrame(np.array(groups).T)\n",
    "data.columns = [str(x) for x in list(data.columns)]\n",
    "data['overall'] = food_overall"
   ]
  },
  {
   "cell_type": "code",
   "execution_count": 6,
   "metadata": {},
   "outputs": [],
   "source": [
    "data = pd.read_csv('storage/5groups.csv')"
   ]
  },
  {
   "cell_type": "code",
   "execution_count": 7,
   "metadata": {},
   "outputs": [
    {
     "name": "stderr",
     "output_type": "stream",
     "text": [
      "c:\\Users\\Pablo\\anaconda3\\lib\\site-packages\\statsmodels\\base\\wrapper.py:34: FutureWarning: y is a deprecated alias for endog, will be removed in version 0.11.0\n",
      "  obj = getattr(results, attr)\n"
     ]
    },
    {
     "name": "stdout",
     "output_type": "stream",
     "text": [
      "group -  0 score =  1.4656126705622515e-14 lag =  0\n",
      "group -  1 score =  1.7365690755897607 lag =  5\n",
      "group -  2 score =  0.19670436306192968 lag =  5\n",
      "group -  3 score =  0.3790580044226735 lag =  0\n",
      "group -  4 score =  0.3497366360104254 lag =  28\n"
     ]
    }
   ],
   "source": [
    "i = 0\n",
    "for y in list(data.columns)[0:5]:\n",
    "    print('group - ', i , 'score = ' ,VARTest(data[str(y)],data['overall'])[0], 'lag = ',\\\n",
    "        VARTest(data[str(y)],data['overall'])[1])\n",
    "    i+=1"
   ]
  },
  {
   "cell_type": "markdown",
   "metadata": {},
   "source": [
    "#### CrossCorr"
   ]
  },
  {
   "cell_type": "code",
   "execution_count": 166,
   "metadata": {},
   "outputs": [],
   "source": [
    "def CrossCorr(datax, datay, maxlag=52):\n",
    "    ccor=0\n",
    "    lag=0\n",
    "    dx=pd.Series(datax)\n",
    "    dy=pd.Series(datay)\n",
    "    for i in range(1,maxlag):\n",
    "        c=abs(dx.corr(dy.shift(i),method='spearman'))\n",
    "        if c>ccor:\n",
    "            ccor=c\n",
    "            lag=i\n",
    "    return lag,ccor "
   ]
  },
  {
   "cell_type": "code",
   "execution_count": 9,
   "metadata": {},
   "outputs": [
    {
     "name": "stdout",
     "output_type": "stream",
     "text": [
      "group -  0 lag =  6 ccor =  0.7150019867788896\n",
      "group -  1 lag =  8 ccor =  0.8104434135289675\n",
      "group -  2 lag =  1 ccor =  0.6116759431045146\n",
      "group -  3 lag =  25 ccor =  0.48230440967283067\n",
      "group -  4 lag =  1 ccor =  0.7858627087198515\n"
     ]
    }
   ],
   "source": [
    "#каждая с общим\n",
    "\n",
    "i = 0\n",
    "for y in list(data.columns)[0:5]:\n",
    "    print('group - ', i , 'lag = ' ,CrossCorr(data[str(y)],data['overall'])[0], 'ccor = ',\\\n",
    "        CrossCorr(data[str(y)],data['overall'])[1])\n",
    "    i+=1"
   ]
  },
  {
   "cell_type": "code",
   "execution_count": 10,
   "metadata": {},
   "outputs": [
    {
     "name": "stdout",
     "output_type": "stream",
     "text": [
      "group- 0 lag =  1 ccor =  0.6935188620902907\n",
      "group- 1 lag =  47 ccor =  0.9193678438961458\n",
      "group- 2 lag =  41 ccor =  0.7073641145528932\n",
      "group- 3 lag =  47 ccor =  0.8692146427995484\n",
      "group- 4 lag =  26 ccor =  0.9950536838208068\n"
     ]
    }
   ],
   "source": [
    "#by one vs others\n",
    "x = 2\n",
    "for x in range(5):\n",
    "    cols  =list(data.columns)[:5]\n",
    "    cols.pop(x)\n",
    "    cols = [str(x) for x in cols]\n",
    "    series = data[cols].mean(axis=1)\n",
    "    print('group-', x , 'lag = ' ,CrossCorr(data[str(x)],series)[0], 'ccor = ',\\\n",
    "        CrossCorr(data[str(x)],series)[1])\n",
    "        "
   ]
  },
  {
   "cell_type": "markdown",
   "metadata": {},
   "source": [
    "## Diffs"
   ]
  },
  {
   "cell_type": "code",
   "execution_count": 23,
   "metadata": {},
   "outputs": [
    {
     "data": {
      "text/html": [
       "<div>\n",
       "<style scoped>\n",
       "    .dataframe tbody tr th:only-of-type {\n",
       "        vertical-align: middle;\n",
       "    }\n",
       "\n",
       "    .dataframe tbody tr th {\n",
       "        vertical-align: top;\n",
       "    }\n",
       "\n",
       "    .dataframe thead th {\n",
       "        text-align: right;\n",
       "    }\n",
       "</style>\n",
       "<table border=\"1\" class=\"dataframe\">\n",
       "  <thead>\n",
       "    <tr style=\"text-align: right;\">\n",
       "      <th>REGNUM</th>\n",
       "      <th>913</th>\n",
       "      <th>1490</th>\n",
       "      <th>1879</th>\n",
       "      <th>2021</th>\n",
       "      <th>2079</th>\n",
       "      <th>2213</th>\n",
       "      <th>2765</th>\n",
       "      <th>2996</th>\n",
       "      <th>3918</th>\n",
       "      <th>5062</th>\n",
       "      <th>...</th>\n",
       "      <th>4270640</th>\n",
       "      <th>4277955</th>\n",
       "      <th>4279667</th>\n",
       "      <th>4282458</th>\n",
       "      <th>4283303</th>\n",
       "      <th>4288428</th>\n",
       "      <th>4291012</th>\n",
       "      <th>4295871</th>\n",
       "      <th>4300670</th>\n",
       "      <th>4300893</th>\n",
       "    </tr>\n",
       "    <tr>\n",
       "      <th>date</th>\n",
       "      <th></th>\n",
       "      <th></th>\n",
       "      <th></th>\n",
       "      <th></th>\n",
       "      <th></th>\n",
       "      <th></th>\n",
       "      <th></th>\n",
       "      <th></th>\n",
       "      <th></th>\n",
       "      <th></th>\n",
       "      <th></th>\n",
       "      <th></th>\n",
       "      <th></th>\n",
       "      <th></th>\n",
       "      <th></th>\n",
       "      <th></th>\n",
       "      <th></th>\n",
       "      <th></th>\n",
       "      <th></th>\n",
       "      <th></th>\n",
       "      <th></th>\n",
       "    </tr>\n",
       "  </thead>\n",
       "  <tbody>\n",
       "    <tr>\n",
       "      <th>2020-02-21</th>\n",
       "      <td>0.000368</td>\n",
       "      <td>0.000000</td>\n",
       "      <td>0.005809</td>\n",
       "      <td>0.000570</td>\n",
       "      <td>-0.003366</td>\n",
       "      <td>-0.000383</td>\n",
       "      <td>0.0</td>\n",
       "      <td>-0.001582</td>\n",
       "      <td>0.001063</td>\n",
       "      <td>1.387779e-17</td>\n",
       "      <td>...</td>\n",
       "      <td>-6.668641e-03</td>\n",
       "      <td>-0.002424</td>\n",
       "      <td>0.007848</td>\n",
       "      <td>0.000000</td>\n",
       "      <td>0.000000e+00</td>\n",
       "      <td>3.423016e-04</td>\n",
       "      <td>0.0</td>\n",
       "      <td>0.014204</td>\n",
       "      <td>0.002612</td>\n",
       "      <td>0.011317</td>\n",
       "    </tr>\n",
       "    <tr>\n",
       "      <th>2020-02-22</th>\n",
       "      <td>0.001183</td>\n",
       "      <td>0.002023</td>\n",
       "      <td>-0.016346</td>\n",
       "      <td>0.016562</td>\n",
       "      <td>0.010589</td>\n",
       "      <td>-0.000124</td>\n",
       "      <td>0.0</td>\n",
       "      <td>0.000841</td>\n",
       "      <td>0.007218</td>\n",
       "      <td>0.000000e+00</td>\n",
       "      <td>...</td>\n",
       "      <td>0.000000e+00</td>\n",
       "      <td>0.003095</td>\n",
       "      <td>0.018830</td>\n",
       "      <td>-0.021481</td>\n",
       "      <td>1.456213e-03</td>\n",
       "      <td>2.282011e-03</td>\n",
       "      <td>0.0</td>\n",
       "      <td>0.002113</td>\n",
       "      <td>0.005975</td>\n",
       "      <td>0.002026</td>\n",
       "    </tr>\n",
       "    <tr>\n",
       "      <th>2020-02-23</th>\n",
       "      <td>0.000172</td>\n",
       "      <td>0.004532</td>\n",
       "      <td>0.001071</td>\n",
       "      <td>0.016095</td>\n",
       "      <td>-0.002285</td>\n",
       "      <td>-0.002174</td>\n",
       "      <td>0.0</td>\n",
       "      <td>-0.002119</td>\n",
       "      <td>-0.006040</td>\n",
       "      <td>0.000000e+00</td>\n",
       "      <td>...</td>\n",
       "      <td>2.775558e-17</td>\n",
       "      <td>0.015047</td>\n",
       "      <td>0.004506</td>\n",
       "      <td>0.000000</td>\n",
       "      <td>-3.200022e-03</td>\n",
       "      <td>5.522466e-03</td>\n",
       "      <td>0.0</td>\n",
       "      <td>0.003567</td>\n",
       "      <td>0.000000</td>\n",
       "      <td>0.006536</td>\n",
       "    </tr>\n",
       "    <tr>\n",
       "      <th>2020-02-24</th>\n",
       "      <td>0.005725</td>\n",
       "      <td>0.004517</td>\n",
       "      <td>0.000563</td>\n",
       "      <td>0.006511</td>\n",
       "      <td>-0.009293</td>\n",
       "      <td>-0.003742</td>\n",
       "      <td>0.0</td>\n",
       "      <td>-0.000321</td>\n",
       "      <td>0.010808</td>\n",
       "      <td>-1.387779e-17</td>\n",
       "      <td>...</td>\n",
       "      <td>-2.775558e-17</td>\n",
       "      <td>-0.013141</td>\n",
       "      <td>0.007183</td>\n",
       "      <td>0.000000</td>\n",
       "      <td>-2.510057e-03</td>\n",
       "      <td>-2.775558e-17</td>\n",
       "      <td>0.0</td>\n",
       "      <td>0.000000</td>\n",
       "      <td>0.004923</td>\n",
       "      <td>0.006488</td>\n",
       "    </tr>\n",
       "    <tr>\n",
       "      <th>2020-02-25</th>\n",
       "      <td>0.009364</td>\n",
       "      <td>0.000447</td>\n",
       "      <td>0.029000</td>\n",
       "      <td>-0.000912</td>\n",
       "      <td>-0.010389</td>\n",
       "      <td>-0.003929</td>\n",
       "      <td>0.0</td>\n",
       "      <td>0.002164</td>\n",
       "      <td>-0.003430</td>\n",
       "      <td>-8.677191e-03</td>\n",
       "      <td>...</td>\n",
       "      <td>2.775558e-17</td>\n",
       "      <td>-0.000963</td>\n",
       "      <td>0.008972</td>\n",
       "      <td>0.000000</td>\n",
       "      <td>6.938894e-18</td>\n",
       "      <td>6.846033e-04</td>\n",
       "      <td>0.0</td>\n",
       "      <td>0.000000</td>\n",
       "      <td>0.001772</td>\n",
       "      <td>0.022523</td>\n",
       "    </tr>\n",
       "    <tr>\n",
       "      <th>...</th>\n",
       "      <td>...</td>\n",
       "      <td>...</td>\n",
       "      <td>...</td>\n",
       "      <td>...</td>\n",
       "      <td>...</td>\n",
       "      <td>...</td>\n",
       "      <td>...</td>\n",
       "      <td>...</td>\n",
       "      <td>...</td>\n",
       "      <td>...</td>\n",
       "      <td>...</td>\n",
       "      <td>...</td>\n",
       "      <td>...</td>\n",
       "      <td>...</td>\n",
       "      <td>...</td>\n",
       "      <td>...</td>\n",
       "      <td>...</td>\n",
       "      <td>...</td>\n",
       "      <td>...</td>\n",
       "      <td>...</td>\n",
       "      <td>...</td>\n",
       "    </tr>\n",
       "    <tr>\n",
       "      <th>2020-05-25</th>\n",
       "      <td>0.005317</td>\n",
       "      <td>-0.000516</td>\n",
       "      <td>0.010855</td>\n",
       "      <td>-0.006098</td>\n",
       "      <td>0.009873</td>\n",
       "      <td>-0.000135</td>\n",
       "      <td>0.0</td>\n",
       "      <td>0.000000</td>\n",
       "      <td>0.014192</td>\n",
       "      <td>1.236207e-02</td>\n",
       "      <td>...</td>\n",
       "      <td>0.000000e+00</td>\n",
       "      <td>0.000000</td>\n",
       "      <td>-0.017826</td>\n",
       "      <td>0.000000</td>\n",
       "      <td>-8.888072e-03</td>\n",
       "      <td>0.000000e+00</td>\n",
       "      <td>0.0</td>\n",
       "      <td>-0.003307</td>\n",
       "      <td>0.002861</td>\n",
       "      <td>0.000000</td>\n",
       "    </tr>\n",
       "    <tr>\n",
       "      <th>2020-05-26</th>\n",
       "      <td>-0.001401</td>\n",
       "      <td>0.001104</td>\n",
       "      <td>0.021365</td>\n",
       "      <td>0.003616</td>\n",
       "      <td>0.002732</td>\n",
       "      <td>0.000000</td>\n",
       "      <td>0.0</td>\n",
       "      <td>-0.002963</td>\n",
       "      <td>0.000000</td>\n",
       "      <td>0.000000e+00</td>\n",
       "      <td>...</td>\n",
       "      <td>0.000000e+00</td>\n",
       "      <td>0.000000</td>\n",
       "      <td>-0.016142</td>\n",
       "      <td>0.000000</td>\n",
       "      <td>7.495020e-04</td>\n",
       "      <td>0.000000e+00</td>\n",
       "      <td>0.0</td>\n",
       "      <td>-0.003447</td>\n",
       "      <td>-0.000027</td>\n",
       "      <td>0.000000</td>\n",
       "    </tr>\n",
       "    <tr>\n",
       "      <th>2020-05-27</th>\n",
       "      <td>-0.001104</td>\n",
       "      <td>0.001209</td>\n",
       "      <td>0.013006</td>\n",
       "      <td>0.002915</td>\n",
       "      <td>-0.014212</td>\n",
       "      <td>-0.003141</td>\n",
       "      <td>0.0</td>\n",
       "      <td>0.003289</td>\n",
       "      <td>-0.003964</td>\n",
       "      <td>0.000000e+00</td>\n",
       "      <td>...</td>\n",
       "      <td>0.000000e+00</td>\n",
       "      <td>0.000000</td>\n",
       "      <td>-0.007170</td>\n",
       "      <td>0.000000</td>\n",
       "      <td>-4.228453e-03</td>\n",
       "      <td>0.000000e+00</td>\n",
       "      <td>0.0</td>\n",
       "      <td>-0.007797</td>\n",
       "      <td>-0.000825</td>\n",
       "      <td>0.000000</td>\n",
       "    </tr>\n",
       "    <tr>\n",
       "      <th>2020-05-28</th>\n",
       "      <td>-0.005591</td>\n",
       "      <td>-0.007497</td>\n",
       "      <td>-0.001089</td>\n",
       "      <td>0.002697</td>\n",
       "      <td>0.000161</td>\n",
       "      <td>0.000000</td>\n",
       "      <td>0.0</td>\n",
       "      <td>0.001060</td>\n",
       "      <td>0.009726</td>\n",
       "      <td>0.000000e+00</td>\n",
       "      <td>...</td>\n",
       "      <td>0.000000e+00</td>\n",
       "      <td>0.000000</td>\n",
       "      <td>-0.010082</td>\n",
       "      <td>0.000000</td>\n",
       "      <td>2.741894e-03</td>\n",
       "      <td>0.000000e+00</td>\n",
       "      <td>0.0</td>\n",
       "      <td>-0.003117</td>\n",
       "      <td>-0.009545</td>\n",
       "      <td>0.000000</td>\n",
       "    </tr>\n",
       "    <tr>\n",
       "      <th>2020-05-29</th>\n",
       "      <td>0.003260</td>\n",
       "      <td>-0.000617</td>\n",
       "      <td>-0.010111</td>\n",
       "      <td>0.003323</td>\n",
       "      <td>0.001279</td>\n",
       "      <td>0.000000</td>\n",
       "      <td>0.0</td>\n",
       "      <td>-0.024697</td>\n",
       "      <td>0.004781</td>\n",
       "      <td>0.000000e+00</td>\n",
       "      <td>...</td>\n",
       "      <td>0.000000e+00</td>\n",
       "      <td>0.000000</td>\n",
       "      <td>-0.010356</td>\n",
       "      <td>0.000000</td>\n",
       "      <td>5.501734e-03</td>\n",
       "      <td>0.000000e+00</td>\n",
       "      <td>0.0</td>\n",
       "      <td>-0.024831</td>\n",
       "      <td>0.003948</td>\n",
       "      <td>0.000000</td>\n",
       "    </tr>\n",
       "  </tbody>\n",
       "</table>\n",
       "<p>99 rows × 7265 columns</p>\n",
       "</div>"
      ],
      "text/plain": [
       "REGNUM       913       1490      1879      2021      2079      2213     \\\n",
       "date                                                                     \n",
       "2020-02-21  0.000368  0.000000  0.005809  0.000570 -0.003366 -0.000383   \n",
       "2020-02-22  0.001183  0.002023 -0.016346  0.016562  0.010589 -0.000124   \n",
       "2020-02-23  0.000172  0.004532  0.001071  0.016095 -0.002285 -0.002174   \n",
       "2020-02-24  0.005725  0.004517  0.000563  0.006511 -0.009293 -0.003742   \n",
       "2020-02-25  0.009364  0.000447  0.029000 -0.000912 -0.010389 -0.003929   \n",
       "...              ...       ...       ...       ...       ...       ...   \n",
       "2020-05-25  0.005317 -0.000516  0.010855 -0.006098  0.009873 -0.000135   \n",
       "2020-05-26 -0.001401  0.001104  0.021365  0.003616  0.002732  0.000000   \n",
       "2020-05-27 -0.001104  0.001209  0.013006  0.002915 -0.014212 -0.003141   \n",
       "2020-05-28 -0.005591 -0.007497 -0.001089  0.002697  0.000161  0.000000   \n",
       "2020-05-29  0.003260 -0.000617 -0.010111  0.003323  0.001279  0.000000   \n",
       "\n",
       "REGNUM      2765      2996      3918          5062     ...       4270640  \\\n",
       "date                                                   ...                 \n",
       "2020-02-21      0.0 -0.001582  0.001063  1.387779e-17  ... -6.668641e-03   \n",
       "2020-02-22      0.0  0.000841  0.007218  0.000000e+00  ...  0.000000e+00   \n",
       "2020-02-23      0.0 -0.002119 -0.006040  0.000000e+00  ...  2.775558e-17   \n",
       "2020-02-24      0.0 -0.000321  0.010808 -1.387779e-17  ... -2.775558e-17   \n",
       "2020-02-25      0.0  0.002164 -0.003430 -8.677191e-03  ...  2.775558e-17   \n",
       "...             ...       ...       ...           ...  ...           ...   \n",
       "2020-05-25      0.0  0.000000  0.014192  1.236207e-02  ...  0.000000e+00   \n",
       "2020-05-26      0.0 -0.002963  0.000000  0.000000e+00  ...  0.000000e+00   \n",
       "2020-05-27      0.0  0.003289 -0.003964  0.000000e+00  ...  0.000000e+00   \n",
       "2020-05-28      0.0  0.001060  0.009726  0.000000e+00  ...  0.000000e+00   \n",
       "2020-05-29      0.0 -0.024697  0.004781  0.000000e+00  ...  0.000000e+00   \n",
       "\n",
       "REGNUM       4277955   4279667   4282458       4283303       4288428  4291012  \\\n",
       "date                                                                            \n",
       "2020-02-21 -0.002424  0.007848  0.000000  0.000000e+00  3.423016e-04      0.0   \n",
       "2020-02-22  0.003095  0.018830 -0.021481  1.456213e-03  2.282011e-03      0.0   \n",
       "2020-02-23  0.015047  0.004506  0.000000 -3.200022e-03  5.522466e-03      0.0   \n",
       "2020-02-24 -0.013141  0.007183  0.000000 -2.510057e-03 -2.775558e-17      0.0   \n",
       "2020-02-25 -0.000963  0.008972  0.000000  6.938894e-18  6.846033e-04      0.0   \n",
       "...              ...       ...       ...           ...           ...      ...   \n",
       "2020-05-25  0.000000 -0.017826  0.000000 -8.888072e-03  0.000000e+00      0.0   \n",
       "2020-05-26  0.000000 -0.016142  0.000000  7.495020e-04  0.000000e+00      0.0   \n",
       "2020-05-27  0.000000 -0.007170  0.000000 -4.228453e-03  0.000000e+00      0.0   \n",
       "2020-05-28  0.000000 -0.010082  0.000000  2.741894e-03  0.000000e+00      0.0   \n",
       "2020-05-29  0.000000 -0.010356  0.000000  5.501734e-03  0.000000e+00      0.0   \n",
       "\n",
       "REGNUM       4295871   4300670   4300893  \n",
       "date                                      \n",
       "2020-02-21  0.014204  0.002612  0.011317  \n",
       "2020-02-22  0.002113  0.005975  0.002026  \n",
       "2020-02-23  0.003567  0.000000  0.006536  \n",
       "2020-02-24  0.000000  0.004923  0.006488  \n",
       "2020-02-25  0.000000  0.001772  0.022523  \n",
       "...              ...       ...       ...  \n",
       "2020-05-25 -0.003307  0.002861  0.000000  \n",
       "2020-05-26 -0.003447 -0.000027  0.000000  \n",
       "2020-05-27 -0.007797 -0.000825  0.000000  \n",
       "2020-05-28 -0.003117 -0.009545  0.000000  \n",
       "2020-05-29 -0.024831  0.003948  0.000000  \n",
       "\n",
       "[99 rows x 7265 columns]"
      ]
     },
     "execution_count": 23,
     "metadata": {},
     "output_type": "execute_result"
    }
   ],
   "source": []
  },
  {
   "cell_type": "code",
   "execution_count": 24,
   "metadata": {},
   "outputs": [
    {
     "name": "stderr",
     "output_type": "stream",
     "text": [
      "[Parallel(n_jobs=1)]: Using backend SequentialBackend with 1 concurrent workers.\n",
      "[Parallel(n_jobs=1)]: Done 7265 out of 7265 | elapsed:    1.5s finished\n",
      "[Parallel(n_jobs=1)]: Using backend SequentialBackend with 1 concurrent workers.\n",
      "[Parallel(n_jobs=1)]: Done 21795 out of 21795 | elapsed:    2.0s finished\n",
      "[Parallel(n_jobs=1)]: Using backend SequentialBackend with 1 concurrent workers.\n",
      "[Parallel(n_jobs=1)]: Done 21795 out of 21795 | elapsed:    2.1s finished\n",
      "[Parallel(n_jobs=1)]: Using backend SequentialBackend with 1 concurrent workers.\n",
      "[Parallel(n_jobs=1)]: Done 21795 out of 21795 | elapsed:    1.9s finished\n",
      "[Parallel(n_jobs=1)]: Using backend SequentialBackend with 1 concurrent workers.\n",
      "[Parallel(n_jobs=1)]: Done 21795 out of 21795 | elapsed:    2.1s finished\n",
      "[Parallel(n_jobs=1)]: Using backend SequentialBackend with 1 concurrent workers.\n",
      "[Parallel(n_jobs=1)]: Done 36325 out of 36325 | elapsed:    3.5s finished\n"
     ]
    },
    {
     "name": "stdout",
     "output_type": "stream",
     "text": [
      "0.003 --> "
     ]
    },
    {
     "name": "stderr",
     "output_type": "stream",
     "text": [
      "[Parallel(n_jobs=1)]: Using backend SequentialBackend with 1 concurrent workers.\n",
      "[Parallel(n_jobs=1)]: Done 36325 out of 36325 | elapsed:    3.5s finished\n"
     ]
    },
    {
     "name": "stdout",
     "output_type": "stream",
     "text": [
      "0.003 --> "
     ]
    },
    {
     "name": "stderr",
     "output_type": "stream",
     "text": [
      "[Parallel(n_jobs=1)]: Using backend SequentialBackend with 1 concurrent workers.\n",
      "[Parallel(n_jobs=1)]: Done 36325 out of 36325 | elapsed:    3.5s finished\n"
     ]
    },
    {
     "name": "stdout",
     "output_type": "stream",
     "text": [
      "0.003 --> "
     ]
    },
    {
     "name": "stderr",
     "output_type": "stream",
     "text": [
      "[Parallel(n_jobs=1)]: Using backend SequentialBackend with 1 concurrent workers.\n",
      "[Parallel(n_jobs=1)]: Done 36325 out of 36325 | elapsed:    3.5s finished\n"
     ]
    },
    {
     "name": "stdout",
     "output_type": "stream",
     "text": [
      "0.003 --> "
     ]
    },
    {
     "name": "stderr",
     "output_type": "stream",
     "text": [
      "[Parallel(n_jobs=1)]: Using backend SequentialBackend with 1 concurrent workers.\n",
      "[Parallel(n_jobs=1)]: Done 36325 out of 36325 | elapsed:    3.5s finished\n"
     ]
    },
    {
     "name": "stdout",
     "output_type": "stream",
     "text": [
      "0.003 --> "
     ]
    },
    {
     "name": "stderr",
     "output_type": "stream",
     "text": [
      "[Parallel(n_jobs=1)]: Using backend SequentialBackend with 1 concurrent workers.\n",
      "[Parallel(n_jobs=1)]: Done 36325 out of 36325 | elapsed:    3.5s finished\n"
     ]
    },
    {
     "name": "stdout",
     "output_type": "stream",
     "text": [
      "0.003 --> "
     ]
    },
    {
     "name": "stderr",
     "output_type": "stream",
     "text": [
      "[Parallel(n_jobs=1)]: Using backend SequentialBackend with 1 concurrent workers.\n",
      "[Parallel(n_jobs=1)]: Done 36325 out of 36325 | elapsed:    3.6s finished\n"
     ]
    },
    {
     "name": "stdout",
     "output_type": "stream",
     "text": [
      "0.003 --> "
     ]
    },
    {
     "name": "stderr",
     "output_type": "stream",
     "text": [
      "[Parallel(n_jobs=1)]: Using backend SequentialBackend with 1 concurrent workers.\n",
      "[Parallel(n_jobs=1)]: Done 36325 out of 36325 | elapsed:    3.6s finished\n"
     ]
    },
    {
     "name": "stdout",
     "output_type": "stream",
     "text": [
      "0.003 --> "
     ]
    },
    {
     "name": "stderr",
     "output_type": "stream",
     "text": [
      "[Parallel(n_jobs=1)]: Using backend SequentialBackend with 1 concurrent workers.\n",
      "[Parallel(n_jobs=1)]: Done 36325 out of 36325 | elapsed:    3.5s finished\n"
     ]
    },
    {
     "name": "stdout",
     "output_type": "stream",
     "text": [
      "0.003 --> "
     ]
    },
    {
     "name": "stderr",
     "output_type": "stream",
     "text": [
      "[Parallel(n_jobs=1)]: Using backend SequentialBackend with 1 concurrent workers.\n",
      "[Parallel(n_jobs=1)]: Done 36325 out of 36325 | elapsed:    3.5s finished\n"
     ]
    },
    {
     "name": "stdout",
     "output_type": "stream",
     "text": [
      "0.003 --> \n"
     ]
    },
    {
     "name": "stderr",
     "output_type": "stream",
     "text": [
      "[Parallel(n_jobs=1)]: Using backend SequentialBackend with 1 concurrent workers.\n",
      "[Parallel(n_jobs=1)]: Done 36325 out of 36325 | elapsed:    3.5s finished\n",
      "c:\\Users\\Pablo\\anaconda3\\lib\\site-packages\\tslearn\\utils\\utils.py:88: UserWarning: 2-Dimensional data passed. Assuming these are 7265 1-dimensional timeseries\n",
      "  warnings.warn('2-Dimensional data passed. Assuming these are '\n",
      "[Parallel(n_jobs=1)]: Using backend SequentialBackend with 1 concurrent workers.\n",
      "[Parallel(n_jobs=1)]: Done 36325 out of 36325 | elapsed:    3.5s finished\n"
     ]
    },
    {
     "data": {
      "text/plain": [
       "Counter({0: 1856, 4: 1372, 1: 1367, 2: 1628, 3: 1042})"
      ]
     },
     "execution_count": 24,
     "metadata": {},
     "output_type": "execute_result"
    }
   ],
   "source": [
    "clusters_num = 5\n",
    "\n",
    "\n",
    "df_wide_food_smoothed_cut_diff = df_wide_food_smoothed[50:150].diff().dropna()\n",
    "\n",
    "model = TimeSeriesKMeans(n_clusters=clusters_num, metric=\"dtw\",\n",
    "                         max_iter=10, random_state=2022, verbose=1)\n",
    "\n",
    "clustered_cut_diff = model.fit(np.array(df_wide_food_smoothed_cut_diff.transpose()))\n",
    "\n",
    "array_data_cut_diff = np.array(df_wide_food_smoothed_cut_diff.transpose())\n",
    "\n",
    "clusters_cut_diff = model.predict(np.array(df_wide_food_smoothed_cut_diff.transpose()))\n",
    "\n",
    "\n",
    "\n",
    "len(clusters_cut_diff)\n",
    "Counter(clusters_cut_diff)"
   ]
  },
  {
   "cell_type": "code",
   "execution_count": 26,
   "metadata": {},
   "outputs": [
    {
     "data": {
      "image/png": "[encoded data removed]",
      "text/plain": [
       "<Figure size 432x288 with 1 Axes>"
      ]
     },
     "metadata": {
      "needs_background": "light"
     },
     "output_type": "display_data"
    }
   ],
   "source": [
    "def indexes(iterable, obj):\n",
    "    return (index for index, elem in enumerate(iterable) if elem == obj)\n",
    "\n",
    "\n",
    "groups = []\n",
    "for group in range(5):\n",
    "    \n",
    "    temp = array_data_cut_diff[list(indexes(clusters_cut_diff.tolist(), group))]\n",
    "    series = np.mean(temp,axis=0)\n",
    "    plt.plot(series, label = str(group))\n",
    "    groups.append(series)\n",
    "\n",
    "#plt.plot(MovingAverage(Norm01(first_overall_consuption[first_overall_consuption['group']==\"food\"]['PRC_AMT'][50:150])[0], numb = 20)\\\n",
    "#    ,label = 'food'\\\n",
    "#    ,linewidth=2, color='red')\n",
    "\n",
    "plt.axvline(x=40, color='b', ls='--', alpha=0.5, label='crisis')\n",
    "plt.legend()\n",
    "plt.show()"
   ]
  },
  {
   "cell_type": "code",
   "execution_count": 30,
   "metadata": {},
   "outputs": [],
   "source": [
    "food_overall_diff = np.diff(MovingAverage(Norm01(first_overall_consuption[first_overall_consuption['group']==\"food\"]['PRC_AMT'][50:150])[0], numb = 20))\n",
    "\n",
    "data_diff = pd.DataFrame(np.array(groups).T)\n",
    "data_diff.columns = [str(x) for x in list(data_diff.columns)]\n",
    "data_diff['overall'] = food_overall_diff"
   ]
  },
  {
   "cell_type": "code",
   "execution_count": 32,
   "metadata": {},
   "outputs": [
    {
     "name": "stderr",
     "output_type": "stream",
     "text": [
      "c:\\Users\\Pablo\\anaconda3\\lib\\site-packages\\statsmodels\\base\\wrapper.py:34: FutureWarning: y is a deprecated alias for endog, will be removed in version 0.11.0\n",
      "  obj = getattr(results, attr)\n"
     ]
    },
    {
     "name": "stdout",
     "output_type": "stream",
     "text": [
      "group -  0 score =  57.4933677876015 lag =  48\n",
      "group -  1 score =  40.40935958477539 lag =  29\n",
      "group -  2 score =  80.1045238137577 lag =  24\n",
      "group -  3 score =  49.809106089257966 lag =  46\n",
      "group -  4 score =  56.21171020734065 lag =  0\n"
     ]
    }
   ],
   "source": [
    "i = 0\n",
    "for y in list(data_diff.columns)[0:5]:\n",
    "    print('group - ', i , 'score = ' ,VARTest(data_diff[str(y)],data_diff['overall'])[0], 'lag = ',\\\n",
    "        VARTest(data_diff[str(y)],data_diff['overall'])[1])\n",
    "    i+=1"
   ]
  },
  {
   "cell_type": "code",
   "execution_count": 33,
   "metadata": {},
   "outputs": [
    {
     "name": "stdout",
     "output_type": "stream",
     "text": [
      "group- 0 lag =  30 ccor =  0.5420533430763611\n",
      "group- 1 lag =  25 ccor =  0.526516105146242\n",
      "group- 2 lag =  21 ccor =  0.46349852678966597\n",
      "group- 3 lag =  21 ccor =  0.5006006651576271\n",
      "group- 4 lag =  26 ccor =  0.4924102184376158\n"
     ]
    }
   ],
   "source": [
    "#by one vs others\n",
    "for x in range(5):\n",
    "    cols  =list(data_diff.columns)[:5]\n",
    "    cols.pop(x)\n",
    "    cols = [str(x) for x in cols]\n",
    "    series = data_diff[cols].mean(axis=1)\n",
    "    print('group-', x , 'lag = ' ,CrossCorr(data_diff[str(x)],series)[0], 'ccor = ',\\\n",
    "        CrossCorr(data_diff[str(x)],series)[1])\n",
    "        "
   ]
  },
  {
   "cell_type": "markdown",
   "metadata": {},
   "source": [
    "# Another classification"
   ]
  },
  {
   "cell_type": "code",
   "execution_count": 2,
   "metadata": {},
   "outputs": [
    {
     "data": {
      "text/html": [
       "<div>\n",
       "<style scoped>\n",
       "    .dataframe tbody tr th:only-of-type {\n",
       "        vertical-align: middle;\n",
       "    }\n",
       "\n",
       "    .dataframe tbody tr th {\n",
       "        vertical-align: top;\n",
       "    }\n",
       "\n",
       "    .dataframe thead th {\n",
       "        text-align: right;\n",
       "    }\n",
       "</style>\n",
       "<table border=\"1\" class=\"dataframe\">\n",
       "  <thead>\n",
       "    <tr style=\"text-align: right;\">\n",
       "      <th></th>\n",
       "      <th>REGNUM</th>\n",
       "      <th>date</th>\n",
       "      <th>group</th>\n",
       "      <th>mcc</th>\n",
       "      <th>PRC_AMT</th>\n",
       "    </tr>\n",
       "  </thead>\n",
       "  <tbody>\n",
       "    <tr>\n",
       "      <th>0</th>\n",
       "      <td>913</td>\n",
       "      <td>2020-01-01</td>\n",
       "      <td>food</td>\n",
       "      <td>16321</td>\n",
       "      <td>1424.68</td>\n",
       "    </tr>\n",
       "    <tr>\n",
       "      <th>1</th>\n",
       "      <td>913</td>\n",
       "      <td>2020-01-02</td>\n",
       "      <td>food</td>\n",
       "      <td>5814</td>\n",
       "      <td>199.00</td>\n",
       "    </tr>\n",
       "    <tr>\n",
       "      <th>2</th>\n",
       "      <td>913</td>\n",
       "      <td>2020-01-02</td>\n",
       "      <td>health</td>\n",
       "      <td>5912</td>\n",
       "      <td>1438.00</td>\n",
       "    </tr>\n",
       "    <tr>\n",
       "      <th>3</th>\n",
       "      <td>913</td>\n",
       "      <td>2020-01-02</td>\n",
       "      <td>money</td>\n",
       "      <td>6011</td>\n",
       "      <td>2000.00</td>\n",
       "    </tr>\n",
       "    <tr>\n",
       "      <th>4</th>\n",
       "      <td>913</td>\n",
       "      <td>2020-01-03</td>\n",
       "      <td>food</td>\n",
       "      <td>5814</td>\n",
       "      <td>213.00</td>\n",
       "    </tr>\n",
       "    <tr>\n",
       "      <th>...</th>\n",
       "      <td>...</td>\n",
       "      <td>...</td>\n",
       "      <td>...</td>\n",
       "      <td>...</td>\n",
       "      <td>...</td>\n",
       "    </tr>\n",
       "    <tr>\n",
       "      <th>3469213</th>\n",
       "      <td>4300893</td>\n",
       "      <td>2020-07-17</td>\n",
       "      <td>money</td>\n",
       "      <td>19084</td>\n",
       "      <td>12000.00</td>\n",
       "    </tr>\n",
       "    <tr>\n",
       "      <th>3469214</th>\n",
       "      <td>4300893</td>\n",
       "      <td>2020-07-19</td>\n",
       "      <td>health</td>\n",
       "      <td>5912</td>\n",
       "      <td>298.00</td>\n",
       "    </tr>\n",
       "    <tr>\n",
       "      <th>3469215</th>\n",
       "      <td>4300893</td>\n",
       "      <td>2020-07-19</td>\n",
       "      <td>money</td>\n",
       "      <td>26144</td>\n",
       "      <td>4600.00</td>\n",
       "    </tr>\n",
       "    <tr>\n",
       "      <th>3469216</th>\n",
       "      <td>4300893</td>\n",
       "      <td>2020-07-20</td>\n",
       "      <td>food</td>\n",
       "      <td>5411</td>\n",
       "      <td>1012.70</td>\n",
       "    </tr>\n",
       "    <tr>\n",
       "      <th>3469217</th>\n",
       "      <td>4300893</td>\n",
       "      <td>2020-07-20</td>\n",
       "      <td>money</td>\n",
       "      <td>13072</td>\n",
       "      <td>700.00</td>\n",
       "    </tr>\n",
       "  </tbody>\n",
       "</table>\n",
       "<p>3469218 rows × 5 columns</p>\n",
       "</div>"
      ],
      "text/plain": [
       "          REGNUM        date   group    mcc   PRC_AMT\n",
       "0            913  2020-01-01    food  16321   1424.68\n",
       "1            913  2020-01-02    food   5814    199.00\n",
       "2            913  2020-01-02  health   5912   1438.00\n",
       "3            913  2020-01-02   money   6011   2000.00\n",
       "4            913  2020-01-03    food   5814    213.00\n",
       "...          ...         ...     ...    ...       ...\n",
       "3469213  4300893  2020-07-17   money  19084  12000.00\n",
       "3469214  4300893  2020-07-19  health   5912    298.00\n",
       "3469215  4300893  2020-07-19   money  26144   4600.00\n",
       "3469216  4300893  2020-07-20    food   5411   1012.70\n",
       "3469217  4300893  2020-07-20   money  13072    700.00\n",
       "\n",
       "[3469218 rows x 5 columns]"
      ]
     },
     "execution_count": 2,
     "metadata": {},
     "output_type": "execute_result"
    }
   ],
   "source": [
    "first = pd.read_csv('storage/data_with_groups.csv')\n",
    "first.group.unique()\n",
    "first_noduplicates = first.groupby(['REGNUM', 'date', 'group']).sum().reset_index()\n",
    "first_noduplicates"
   ]
  },
  {
   "cell_type": "code",
   "execution_count": 3,
   "metadata": {},
   "outputs": [],
   "source": [
    "#make overall consumption\n",
    "first_overall_consuption = first.groupby(['date', 'group']).sum().reset_index()[['date', 'group', 'PRC_AMT']]\n",
    "#make for food\n",
    "df_wide_food=pd.pivot(first_noduplicates[first_noduplicates['group']== 'food'], index=['date'], columns = 'REGNUM',values = 'PRC_AMT').fillna(0) #Reshape from long to wide\n"
   ]
  },
  {
   "cell_type": "markdown",
   "metadata": {},
   "source": [
    "## Фичи АН"
   ]
  },
  {
   "cell_type": "code",
   "execution_count": 4,
   "metadata": {},
   "outputs": [],
   "source": [
    "from Libraries.features import get_features\n",
    "\n"
   ]
  },
  {
   "cell_type": "code",
   "execution_count": 80,
   "metadata": {},
   "outputs": [
    {
     "data": {
      "text/html": [
       "<div>\n",
       "<style scoped>\n",
       "    .dataframe tbody tr th:only-of-type {\n",
       "        vertical-align: middle;\n",
       "    }\n",
       "\n",
       "    .dataframe tbody tr th {\n",
       "        vertical-align: top;\n",
       "    }\n",
       "\n",
       "    .dataframe thead th {\n",
       "        text-align: right;\n",
       "    }\n",
       "</style>\n",
       "<table border=\"1\" class=\"dataframe\">\n",
       "  <thead>\n",
       "    <tr style=\"text-align: right;\">\n",
       "      <th>REGNUM</th>\n",
       "      <th>913</th>\n",
       "      <th>1490</th>\n",
       "      <th>1879</th>\n",
       "      <th>2021</th>\n",
       "      <th>2079</th>\n",
       "      <th>2213</th>\n",
       "      <th>2765</th>\n",
       "      <th>2996</th>\n",
       "      <th>3918</th>\n",
       "      <th>5062</th>\n",
       "      <th>...</th>\n",
       "      <th>4270640</th>\n",
       "      <th>4277955</th>\n",
       "      <th>4279667</th>\n",
       "      <th>4282458</th>\n",
       "      <th>4283303</th>\n",
       "      <th>4288428</th>\n",
       "      <th>4291012</th>\n",
       "      <th>4295871</th>\n",
       "      <th>4300670</th>\n",
       "      <th>4300893</th>\n",
       "    </tr>\n",
       "    <tr>\n",
       "      <th>date</th>\n",
       "      <th></th>\n",
       "      <th></th>\n",
       "      <th></th>\n",
       "      <th></th>\n",
       "      <th></th>\n",
       "      <th></th>\n",
       "      <th></th>\n",
       "      <th></th>\n",
       "      <th></th>\n",
       "      <th></th>\n",
       "      <th></th>\n",
       "      <th></th>\n",
       "      <th></th>\n",
       "      <th></th>\n",
       "      <th></th>\n",
       "      <th></th>\n",
       "      <th></th>\n",
       "      <th></th>\n",
       "      <th></th>\n",
       "      <th></th>\n",
       "      <th></th>\n",
       "    </tr>\n",
       "  </thead>\n",
       "  <tbody>\n",
       "    <tr>\n",
       "      <th>2020-01-01</th>\n",
       "      <td>1424.68</td>\n",
       "      <td>0.00</td>\n",
       "      <td>0.00</td>\n",
       "      <td>498.00</td>\n",
       "      <td>0.00</td>\n",
       "      <td>0.00</td>\n",
       "      <td>0.0</td>\n",
       "      <td>0.00</td>\n",
       "      <td>99.99</td>\n",
       "      <td>0.0</td>\n",
       "      <td>...</td>\n",
       "      <td>0.0</td>\n",
       "      <td>0.00</td>\n",
       "      <td>0.0</td>\n",
       "      <td>0.0</td>\n",
       "      <td>0.00</td>\n",
       "      <td>0.0</td>\n",
       "      <td>0.0</td>\n",
       "      <td>0.0</td>\n",
       "      <td>0.00</td>\n",
       "      <td>0.0</td>\n",
       "    </tr>\n",
       "    <tr>\n",
       "      <th>2020-01-02</th>\n",
       "      <td>199.00</td>\n",
       "      <td>0.00</td>\n",
       "      <td>0.00</td>\n",
       "      <td>976.72</td>\n",
       "      <td>326.49</td>\n",
       "      <td>4359.42</td>\n",
       "      <td>0.0</td>\n",
       "      <td>1273.40</td>\n",
       "      <td>0.00</td>\n",
       "      <td>0.0</td>\n",
       "      <td>...</td>\n",
       "      <td>0.0</td>\n",
       "      <td>0.00</td>\n",
       "      <td>0.0</td>\n",
       "      <td>0.0</td>\n",
       "      <td>0.00</td>\n",
       "      <td>0.0</td>\n",
       "      <td>0.0</td>\n",
       "      <td>0.0</td>\n",
       "      <td>0.00</td>\n",
       "      <td>0.0</td>\n",
       "    </tr>\n",
       "    <tr>\n",
       "      <th>2020-01-03</th>\n",
       "      <td>213.00</td>\n",
       "      <td>1272.43</td>\n",
       "      <td>0.00</td>\n",
       "      <td>1031.99</td>\n",
       "      <td>835.97</td>\n",
       "      <td>5630.93</td>\n",
       "      <td>0.0</td>\n",
       "      <td>0.00</td>\n",
       "      <td>720.52</td>\n",
       "      <td>0.0</td>\n",
       "      <td>...</td>\n",
       "      <td>0.0</td>\n",
       "      <td>0.00</td>\n",
       "      <td>0.0</td>\n",
       "      <td>0.0</td>\n",
       "      <td>0.00</td>\n",
       "      <td>0.0</td>\n",
       "      <td>0.0</td>\n",
       "      <td>0.0</td>\n",
       "      <td>0.00</td>\n",
       "      <td>0.0</td>\n",
       "    </tr>\n",
       "    <tr>\n",
       "      <th>2020-01-04</th>\n",
       "      <td>1313.00</td>\n",
       "      <td>0.00</td>\n",
       "      <td>105.00</td>\n",
       "      <td>229.00</td>\n",
       "      <td>1883.96</td>\n",
       "      <td>912.22</td>\n",
       "      <td>0.0</td>\n",
       "      <td>368.86</td>\n",
       "      <td>0.00</td>\n",
       "      <td>0.0</td>\n",
       "      <td>...</td>\n",
       "      <td>0.0</td>\n",
       "      <td>0.00</td>\n",
       "      <td>0.0</td>\n",
       "      <td>0.0</td>\n",
       "      <td>0.00</td>\n",
       "      <td>0.0</td>\n",
       "      <td>0.0</td>\n",
       "      <td>0.0</td>\n",
       "      <td>0.00</td>\n",
       "      <td>0.0</td>\n",
       "    </tr>\n",
       "    <tr>\n",
       "      <th>2020-01-05</th>\n",
       "      <td>1376.36</td>\n",
       "      <td>0.00</td>\n",
       "      <td>99.00</td>\n",
       "      <td>2399.85</td>\n",
       "      <td>0.00</td>\n",
       "      <td>189.00</td>\n",
       "      <td>0.0</td>\n",
       "      <td>0.00</td>\n",
       "      <td>1312.60</td>\n",
       "      <td>0.0</td>\n",
       "      <td>...</td>\n",
       "      <td>297.0</td>\n",
       "      <td>0.00</td>\n",
       "      <td>0.0</td>\n",
       "      <td>0.0</td>\n",
       "      <td>0.00</td>\n",
       "      <td>0.0</td>\n",
       "      <td>0.0</td>\n",
       "      <td>0.0</td>\n",
       "      <td>0.00</td>\n",
       "      <td>0.0</td>\n",
       "    </tr>\n",
       "    <tr>\n",
       "      <th>...</th>\n",
       "      <td>...</td>\n",
       "      <td>...</td>\n",
       "      <td>...</td>\n",
       "      <td>...</td>\n",
       "      <td>...</td>\n",
       "      <td>...</td>\n",
       "      <td>...</td>\n",
       "      <td>...</td>\n",
       "      <td>...</td>\n",
       "      <td>...</td>\n",
       "      <td>...</td>\n",
       "      <td>...</td>\n",
       "      <td>...</td>\n",
       "      <td>...</td>\n",
       "      <td>...</td>\n",
       "      <td>...</td>\n",
       "      <td>...</td>\n",
       "      <td>...</td>\n",
       "      <td>...</td>\n",
       "      <td>...</td>\n",
       "      <td>...</td>\n",
       "    </tr>\n",
       "    <tr>\n",
       "      <th>2020-09-26</th>\n",
       "      <td>719.81</td>\n",
       "      <td>161.17</td>\n",
       "      <td>536.00</td>\n",
       "      <td>856.00</td>\n",
       "      <td>1376.27</td>\n",
       "      <td>0.00</td>\n",
       "      <td>0.0</td>\n",
       "      <td>576.00</td>\n",
       "      <td>1165.35</td>\n",
       "      <td>0.0</td>\n",
       "      <td>...</td>\n",
       "      <td>562.0</td>\n",
       "      <td>0.00</td>\n",
       "      <td>0.0</td>\n",
       "      <td>0.0</td>\n",
       "      <td>5453.31</td>\n",
       "      <td>40.0</td>\n",
       "      <td>0.0</td>\n",
       "      <td>0.0</td>\n",
       "      <td>53.99</td>\n",
       "      <td>0.0</td>\n",
       "    </tr>\n",
       "    <tr>\n",
       "      <th>2020-09-27</th>\n",
       "      <td>0.00</td>\n",
       "      <td>0.00</td>\n",
       "      <td>659.99</td>\n",
       "      <td>1452.44</td>\n",
       "      <td>1626.97</td>\n",
       "      <td>0.00</td>\n",
       "      <td>0.0</td>\n",
       "      <td>117.00</td>\n",
       "      <td>0.00</td>\n",
       "      <td>0.0</td>\n",
       "      <td>...</td>\n",
       "      <td>0.0</td>\n",
       "      <td>639.98</td>\n",
       "      <td>0.0</td>\n",
       "      <td>0.0</td>\n",
       "      <td>0.00</td>\n",
       "      <td>0.0</td>\n",
       "      <td>0.0</td>\n",
       "      <td>0.0</td>\n",
       "      <td>0.00</td>\n",
       "      <td>0.0</td>\n",
       "    </tr>\n",
       "    <tr>\n",
       "      <th>2020-09-28</th>\n",
       "      <td>304.90</td>\n",
       "      <td>443.00</td>\n",
       "      <td>1075.34</td>\n",
       "      <td>1719.80</td>\n",
       "      <td>2469.33</td>\n",
       "      <td>0.00</td>\n",
       "      <td>55.0</td>\n",
       "      <td>0.00</td>\n",
       "      <td>470.00</td>\n",
       "      <td>0.0</td>\n",
       "      <td>...</td>\n",
       "      <td>0.0</td>\n",
       "      <td>0.00</td>\n",
       "      <td>0.0</td>\n",
       "      <td>0.0</td>\n",
       "      <td>2207.32</td>\n",
       "      <td>0.0</td>\n",
       "      <td>0.0</td>\n",
       "      <td>0.0</td>\n",
       "      <td>0.00</td>\n",
       "      <td>0.0</td>\n",
       "    </tr>\n",
       "    <tr>\n",
       "      <th>2020-09-29</th>\n",
       "      <td>1331.45</td>\n",
       "      <td>0.00</td>\n",
       "      <td>264.00</td>\n",
       "      <td>380.00</td>\n",
       "      <td>971.95</td>\n",
       "      <td>130.00</td>\n",
       "      <td>0.0</td>\n",
       "      <td>0.00</td>\n",
       "      <td>158.00</td>\n",
       "      <td>0.0</td>\n",
       "      <td>...</td>\n",
       "      <td>0.0</td>\n",
       "      <td>179.26</td>\n",
       "      <td>0.0</td>\n",
       "      <td>0.0</td>\n",
       "      <td>1046.66</td>\n",
       "      <td>0.0</td>\n",
       "      <td>0.0</td>\n",
       "      <td>0.0</td>\n",
       "      <td>497.11</td>\n",
       "      <td>0.0</td>\n",
       "    </tr>\n",
       "    <tr>\n",
       "      <th>2020-09-30</th>\n",
       "      <td>0.00</td>\n",
       "      <td>0.00</td>\n",
       "      <td>0.00</td>\n",
       "      <td>0.00</td>\n",
       "      <td>0.00</td>\n",
       "      <td>0.00</td>\n",
       "      <td>0.0</td>\n",
       "      <td>0.00</td>\n",
       "      <td>24.00</td>\n",
       "      <td>0.0</td>\n",
       "      <td>...</td>\n",
       "      <td>0.0</td>\n",
       "      <td>0.00</td>\n",
       "      <td>0.0</td>\n",
       "      <td>0.0</td>\n",
       "      <td>0.00</td>\n",
       "      <td>0.0</td>\n",
       "      <td>0.0</td>\n",
       "      <td>0.0</td>\n",
       "      <td>0.00</td>\n",
       "      <td>0.0</td>\n",
       "    </tr>\n",
       "  </tbody>\n",
       "</table>\n",
       "<p>274 rows × 7265 columns</p>\n",
       "</div>"
      ],
      "text/plain": [
       "REGNUM      913      1490     1879     2021     2079     2213     2765     \\\n",
       "date                                                                        \n",
       "2020-01-01  1424.68     0.00     0.00   498.00     0.00     0.00      0.0   \n",
       "2020-01-02   199.00     0.00     0.00   976.72   326.49  4359.42      0.0   \n",
       "2020-01-03   213.00  1272.43     0.00  1031.99   835.97  5630.93      0.0   \n",
       "2020-01-04  1313.00     0.00   105.00   229.00  1883.96   912.22      0.0   \n",
       "2020-01-05  1376.36     0.00    99.00  2399.85     0.00   189.00      0.0   \n",
       "...             ...      ...      ...      ...      ...      ...      ...   \n",
       "2020-09-26   719.81   161.17   536.00   856.00  1376.27     0.00      0.0   \n",
       "2020-09-27     0.00     0.00   659.99  1452.44  1626.97     0.00      0.0   \n",
       "2020-09-28   304.90   443.00  1075.34  1719.80  2469.33     0.00     55.0   \n",
       "2020-09-29  1331.45     0.00   264.00   380.00   971.95   130.00      0.0   \n",
       "2020-09-30     0.00     0.00     0.00     0.00     0.00     0.00      0.0   \n",
       "\n",
       "REGNUM      2996     3918     5062     ...  4270640  4277955  4279667  \\\n",
       "date                                   ...                              \n",
       "2020-01-01     0.00    99.99      0.0  ...      0.0     0.00      0.0   \n",
       "2020-01-02  1273.40     0.00      0.0  ...      0.0     0.00      0.0   \n",
       "2020-01-03     0.00   720.52      0.0  ...      0.0     0.00      0.0   \n",
       "2020-01-04   368.86     0.00      0.0  ...      0.0     0.00      0.0   \n",
       "2020-01-05     0.00  1312.60      0.0  ...    297.0     0.00      0.0   \n",
       "...             ...      ...      ...  ...      ...      ...      ...   \n",
       "2020-09-26   576.00  1165.35      0.0  ...    562.0     0.00      0.0   \n",
       "2020-09-27   117.00     0.00      0.0  ...      0.0   639.98      0.0   \n",
       "2020-09-28     0.00   470.00      0.0  ...      0.0     0.00      0.0   \n",
       "2020-09-29     0.00   158.00      0.0  ...      0.0   179.26      0.0   \n",
       "2020-09-30     0.00    24.00      0.0  ...      0.0     0.00      0.0   \n",
       "\n",
       "REGNUM      4282458  4283303  4288428  4291012  4295871  4300670  4300893  \n",
       "date                                                                       \n",
       "2020-01-01      0.0     0.00      0.0      0.0      0.0     0.00      0.0  \n",
       "2020-01-02      0.0     0.00      0.0      0.0      0.0     0.00      0.0  \n",
       "2020-01-03      0.0     0.00      0.0      0.0      0.0     0.00      0.0  \n",
       "2020-01-04      0.0     0.00      0.0      0.0      0.0     0.00      0.0  \n",
       "2020-01-05      0.0     0.00      0.0      0.0      0.0     0.00      0.0  \n",
       "...             ...      ...      ...      ...      ...      ...      ...  \n",
       "2020-09-26      0.0  5453.31     40.0      0.0      0.0    53.99      0.0  \n",
       "2020-09-27      0.0     0.00      0.0      0.0      0.0     0.00      0.0  \n",
       "2020-09-28      0.0  2207.32      0.0      0.0      0.0     0.00      0.0  \n",
       "2020-09-29      0.0  1046.66      0.0      0.0      0.0   497.11      0.0  \n",
       "2020-09-30      0.0     0.00      0.0      0.0      0.0     0.00      0.0  \n",
       "\n",
       "[274 rows x 7265 columns]"
      ]
     },
     "execution_count": 80,
     "metadata": {},
     "output_type": "execute_result"
    }
   ],
   "source": [
    "df_wide_food"
   ]
  },
  {
   "cell_type": "code",
   "execution_count": 87,
   "metadata": {},
   "outputs": [],
   "source": [
    "regnum = []\n",
    "noise = []\n",
    "hurst = []\n",
    "coent = []\n",
    "ksent = []\n",
    "randm = []\n",
    "for column in df_wide_food.columns.tolist():\n",
    "    result = get_features(df_wide_food[column].tolist())\n",
    "    regnum.append(column)\n",
    "    noise.append(result['noise'])\n",
    "    hurst.append(result['hurst'])\n",
    "    coent.append(result['coent'])\n",
    "    ksent.append(result['ksent'])\n",
    "    randm.append(result['randm'])\n",
    "\n",
    "\n",
    "features_dict = {'regnum': regnum, 'noise': noise, 'hurst': hurst, 'coent': coent, 'ksent': ksent, 'randm': randm } \n",
    "AN_features = pd.DataFrame(features_dict)\n"
   ]
  },
  {
   "cell_type": "code",
   "execution_count": 89,
   "metadata": {},
   "outputs": [],
   "source": [
    "\n",
    "AN_features.to_csv('storage/AN_features.csv')"
   ]
  },
  {
   "cell_type": "code",
   "execution_count": 91,
   "metadata": {},
   "outputs": [],
   "source": [
    "AN_features = AN_features.set_index('regnum')"
   ]
  },
  {
   "cell_type": "code",
   "execution_count": 93,
   "metadata": {},
   "outputs": [],
   "source": [
    "\n",
    "AN_features_array = np.array(AN_features)"
   ]
  },
  {
   "cell_type": "code",
   "execution_count": 94,
   "metadata": {},
   "outputs": [
    {
     "data": {
      "text/plain": [
       "array([[-0.03474878,  0.36890932,  8.47115593,  5.61518987,  0.19095214],\n",
       "       [-0.17801302,  0.26984599,  9.01000216,  4.24215034,  0.44925153],\n",
       "       [ 0.13514679,  0.35843205,  7.04486105,  6.05264148,  0.13180474],\n",
       "       ...,\n",
       "       [ 0.28117136,  0.60838715,  6.98849751,  4.51052244,  0.3248821 ],\n",
       "       [ 0.08457504,  0.6387783 ,  7.27801957,  5.54479339,  0.20940404],\n",
       "       [ 0.03118783,  0.72025685,  8.17678147,  2.50860625,  0.49082187]])"
      ]
     },
     "execution_count": 94,
     "metadata": {},
     "output_type": "execute_result"
    }
   ],
   "source": [
    "AN_features_array"
   ]
  },
  {
   "cell_type": "markdown",
   "metadata": {},
   "source": [
    "### KNN"
   ]
  },
  {
   "cell_type": "code",
   "execution_count": 95,
   "metadata": {},
   "outputs": [],
   "source": [
    "from sklearn.cluster import KMeans\n",
    "model = KMeans(n_clusters=5)\n",
    "\n",
    "model.fit(AN_features_array)\n",
    "\n",
    "clusters_AN_Kmeans = model.predict(AN_features_array)\n",
    "\n"
   ]
  },
  {
   "cell_type": "code",
   "execution_count": 96,
   "metadata": {},
   "outputs": [
    {
     "data": {
      "text/plain": [
       "Counter({3: 2384, 1: 1832, 0: 1636, 4: 386, 2: 1027})"
      ]
     },
     "execution_count": 96,
     "metadata": {},
     "output_type": "execute_result"
    }
   ],
   "source": [
    "Counter(clusters_AN_Kmeans)"
   ]
  },
  {
   "cell_type": "code",
   "execution_count": 98,
   "metadata": {},
   "outputs": [],
   "source": [
    "AN_features['cluster'] = clusters_AN_Kmeans"
   ]
  },
  {
   "cell_type": "code",
   "execution_count": 100,
   "metadata": {},
   "outputs": [],
   "source": [
    "cluster_df = AN_features.reset_index()[['regnum', 'cluster']]"
   ]
  },
  {
   "cell_type": "code",
   "execution_count": 101,
   "metadata": {},
   "outputs": [
    {
     "data": {
      "text/html": [
       "<div>\n",
       "<style scoped>\n",
       "    .dataframe tbody tr th:only-of-type {\n",
       "        vertical-align: middle;\n",
       "    }\n",
       "\n",
       "    .dataframe tbody tr th {\n",
       "        vertical-align: top;\n",
       "    }\n",
       "\n",
       "    .dataframe thead th {\n",
       "        text-align: right;\n",
       "    }\n",
       "</style>\n",
       "<table border=\"1\" class=\"dataframe\">\n",
       "  <thead>\n",
       "    <tr style=\"text-align: right;\">\n",
       "      <th></th>\n",
       "      <th>regnum</th>\n",
       "      <th>cluster</th>\n",
       "    </tr>\n",
       "  </thead>\n",
       "  <tbody>\n",
       "    <tr>\n",
       "      <th>0</th>\n",
       "      <td>913</td>\n",
       "      <td>3</td>\n",
       "    </tr>\n",
       "    <tr>\n",
       "      <th>1</th>\n",
       "      <td>1490</td>\n",
       "      <td>1</td>\n",
       "    </tr>\n",
       "    <tr>\n",
       "      <th>2</th>\n",
       "      <td>1879</td>\n",
       "      <td>0</td>\n",
       "    </tr>\n",
       "    <tr>\n",
       "      <th>3</th>\n",
       "      <td>2021</td>\n",
       "      <td>0</td>\n",
       "    </tr>\n",
       "    <tr>\n",
       "      <th>4</th>\n",
       "      <td>2079</td>\n",
       "      <td>0</td>\n",
       "    </tr>\n",
       "    <tr>\n",
       "      <th>...</th>\n",
       "      <td>...</td>\n",
       "      <td>...</td>\n",
       "    </tr>\n",
       "    <tr>\n",
       "      <th>7260</th>\n",
       "      <td>4288428</td>\n",
       "      <td>4</td>\n",
       "    </tr>\n",
       "    <tr>\n",
       "      <th>7261</th>\n",
       "      <td>4291012</td>\n",
       "      <td>4</td>\n",
       "    </tr>\n",
       "    <tr>\n",
       "      <th>7262</th>\n",
       "      <td>4295871</td>\n",
       "      <td>1</td>\n",
       "    </tr>\n",
       "    <tr>\n",
       "      <th>7263</th>\n",
       "      <td>4300670</td>\n",
       "      <td>0</td>\n",
       "    </tr>\n",
       "    <tr>\n",
       "      <th>7264</th>\n",
       "      <td>4300893</td>\n",
       "      <td>2</td>\n",
       "    </tr>\n",
       "  </tbody>\n",
       "</table>\n",
       "<p>7265 rows × 2 columns</p>\n",
       "</div>"
      ],
      "text/plain": [
       "       regnum  cluster\n",
       "0         913        3\n",
       "1        1490        1\n",
       "2        1879        0\n",
       "3        2021        0\n",
       "4        2079        0\n",
       "...       ...      ...\n",
       "7260  4288428        4\n",
       "7261  4291012        4\n",
       "7262  4295871        1\n",
       "7263  4300670        0\n",
       "7264  4300893        2\n",
       "\n",
       "[7265 rows x 2 columns]"
      ]
     },
     "execution_count": 101,
     "metadata": {},
     "output_type": "execute_result"
    }
   ],
   "source": []
  },
  {
   "cell_type": "code",
   "execution_count": 105,
   "metadata": {},
   "outputs": [],
   "source": [
    "group = 0\n",
    "regnums = cluster_df[cluster_df['cluster']==group]['regnum'].tolist()"
   ]
  },
  {
   "cell_type": "code",
   "execution_count": 170,
   "metadata": {},
   "outputs": [
    {
     "data": {
      "image/png": "[encoded data removed]",
      "text/plain": [
       "<Figure size 432x288 with 1 Axes>"
      ]
     },
     "metadata": {
      "needs_background": "light"
     },
     "output_type": "display_data"
    }
   ],
   "source": [
    "groups = []\n",
    "for group in range(5):\n",
    "    regnums = list(cluster_df[cluster_df['cluster']==group]['regnum'])\n",
    "    series = df_wide_food[regnums].mean(axis=1).tolist()\n",
    "    series = MovingAverage(Norm01(series)[0], numb = 10)\n",
    "    plt.plot(series[50:150], label = str(group))\n",
    "    groups.append(series)\n",
    "plt.legend()\n",
    "plt.show()\n"
   ]
  },
  {
   "cell_type": "code",
   "execution_count": null,
   "metadata": {},
   "outputs": [],
   "source": []
  },
  {
   "cell_type": "markdown",
   "metadata": {},
   "source": [
    "#### Tests"
   ]
  },
  {
   "cell_type": "code",
   "execution_count": 122,
   "metadata": {},
   "outputs": [],
   "source": [
    "import copy\n"
   ]
  },
  {
   "cell_type": "code",
   "execution_count": 169,
   "metadata": {},
   "outputs": [
    {
     "name": "stdout",
     "output_type": "stream",
     "text": [
      "group- 0 lag =  3 ccor =  0.796089312013465\n",
      "group- 1 lag =  1 ccor =  0.97299938157081\n",
      "group- 2 lag =  1 ccor =  0.9505009276437848\n",
      "group- 3 lag =  1 ccor =  0.8686703772418058\n",
      "group- 4 lag =  51 ccor =  0.8737755102040814\n"
     ]
    }
   ],
   "source": [
    "#by one vs others\n",
    "for x in range(5):\n",
    "    temp_groups = copy.deepcopy(groups)\n",
    "    series = temp_groups.pop(x).tolist()[50:150]\n",
    "    rest = np.array(temp_groups).sum(axis=0).tolist()[50:150]\n",
    "    \n",
    "    print('group-', x , 'lag = ' ,CrossCorr(series,rest)[0], 'ccor = ',\\\n",
    "        CrossCorr(series,rest)[1])"
   ]
  },
  {
   "cell_type": "code",
   "execution_count": 164,
   "metadata": {},
   "outputs": [
    {
     "data": {
      "text/plain": [
       "274"
      ]
     },
     "execution_count": 164,
     "metadata": {},
     "output_type": "execute_result"
    }
   ],
   "source": []
  },
  {
   "cell_type": "code",
   "execution_count": 152,
   "metadata": {},
   "outputs": [
    {
     "data": {
      "text/plain": [
       "array([0.27615781, 0.4349669 , 0.46984193, 0.49487452, 0.50618881,\n",
       "       0.51723768, 0.46252102, 0.45614201, 0.40896762, 0.61188783,\n",
       "       0.68943655, 0.57504351, 0.49056577, 0.49835924, 0.52166913,\n",
       "       0.51659102, 0.67110742, 0.69302571, 0.59341569, 0.47014624,\n",
       "       0.49272504, 0.50698784, 0.50359011, 0.7103321 , 0.80086792,\n",
       "       0.62480158, 0.5265249 , 0.53792503, 0.54645106, 0.55169288,\n",
       "       0.55378122, 0.56022481, 0.57023347, 0.57485317, 0.5761142 ,\n",
       "       0.57915864, 0.58229697, 0.57979874, 0.57921676, 0.58726217,\n",
       "       0.58964029, 0.59014601, 0.58954664, 0.5922609 , 0.58730964,\n",
       "       0.59110514, 0.5981412 , 0.60426486, 0.60660088, 0.60807666,\n",
       "       0.60971804, 0.60575102, 0.60115302, 0.60801475, 0.61377822,\n",
       "       0.61630053, 0.61434449, 0.61324457, 0.60905   , 0.60730548,\n",
       "       0.61265802, 0.61950118, 0.61801965, 0.61926086, 0.62026282,\n",
       "       0.62299596, 0.62520844, 0.63558683, 0.64411224, 0.646036  ,\n",
       "       0.64483702, 0.64705744, 0.64072676, 0.63930872, 0.64918362,\n",
       "       0.65823962, 0.66670483, 0.67519887, 0.67669742, 0.67595754,\n",
       "       0.67223418, 0.67523947, 0.67808545, 0.67687321, 0.67660136,\n",
       "       0.68125077, 0.68078624, 0.68869407, 0.69217099, 0.69421589,\n",
       "       0.69876481, 0.67761869, 0.6696634 , 0.65610009, 0.64515357,\n",
       "       0.63681124, 0.63098793, 0.62571524, 0.62011429, 0.61228539,\n",
       "       0.60112852, 0.59093142, 0.58505288, 0.57388718, 0.56228515,\n",
       "       0.55717905, 0.55266783, 0.54619946, 0.5411711 , 0.54148288,\n",
       "       0.53874387, 0.53602719, 0.52738058, 0.5174499 , 0.49878474,\n",
       "       0.49091724, 0.49673185, 0.48999546, 0.50674782, 0.50356479,\n",
       "       0.50568472, 0.50746071, 0.50891083, 0.51255139, 0.51333753,\n",
       "       0.51302307, 0.51705337, 0.5164643 , 0.5119782 , 0.51078292,\n",
       "       0.51336029, 0.51351493, 0.51023385, 0.50779951, 0.50485127,\n",
       "       0.49892061, 0.49531836, 0.49957257, 0.50062584, 0.49884848,\n",
       "       0.49859424, 0.49744368, 0.49411823, 0.48972937, 0.49320822,\n",
       "       0.49487084, 0.49636122, 0.49244543, 0.48864118, 0.48620936,\n",
       "       0.49186873, 0.49659089, 0.49983511, 0.49624818, 0.49737496,\n",
       "       0.49448551, 0.48964641, 0.49031937, 0.49269158, 0.49318525,\n",
       "       0.49176878, 0.4912295 , 0.49319179, 0.4944205 , 0.49693338,\n",
       "       0.49955917, 0.50179402, 0.50259441, 0.50175006, 0.50162941,\n",
       "       0.4976758 , 0.49935044, 0.50136698, 0.50063672, 0.50087824,\n",
       "       0.50116653, 0.50228436, 0.49857625, 0.50174073, 0.50221719,\n",
       "       0.5055558 , 0.50677576, 0.49093703, 0.49534261, 0.49353153,\n",
       "       0.49711173, 0.50418926, 0.50589734, 0.50713385, 0.50510465,\n",
       "       0.49985714, 0.49737495, 0.50272303, 0.51280044, 0.51473919,\n",
       "       0.51550389, 0.51896337, 0.52010214, 0.51748107, 0.52193694,\n",
       "       0.526245  , 0.52950072, 0.52938304, 0.52800638, 0.52467052,\n",
       "       0.51884584, 0.52336528, 0.52626031, 0.52826557, 0.54539152,\n",
       "       0.54168977, 0.54029781, 0.53563421, 0.53838994, 0.54384704,\n",
       "       0.54591194, 0.54521191, 0.54606997, 0.54503907, 0.53950048,\n",
       "       0.53461913, 0.53877355, 0.5399494 , 0.53769091, 0.53596933,\n",
       "       0.53505847, 0.53150451, 0.53308546, 0.53674802, 0.54151583,\n",
       "       0.54192502, 0.54284944, 0.54339764, 0.53844879, 0.5401008 ,\n",
       "       0.54332287, 0.54682798, 0.54657659, 0.54757205, 0.54751108,\n",
       "       0.54054082, 0.5404133 , 0.54350897, 0.54754331, 0.54849002,\n",
       "       0.54912533, 0.5461626 , 0.54129087, 0.53966763, 0.54327588,\n",
       "       0.54331745, 0.54027114, 0.53702882, 0.53039371, 0.52586323,\n",
       "       0.52766826, 0.52989622, 0.53035998, 0.52916562, 0.52608601,\n",
       "       0.52288577, 0.5165517 , 0.51622302, 0.51903984, 0.51833541,\n",
       "       0.51383011, 0.50972782, 0.50745766, 0.50175571, 0.50331332,\n",
       "       0.50711133, 0.50896422, 0.50728579, 0.50823157])"
      ]
     },
     "execution_count": 152,
     "metadata": {},
     "output_type": "execute_result"
    }
   ],
   "source": [
    "temp_groups.pop(1)"
   ]
  },
  {
   "cell_type": "code",
   "execution_count": 129,
   "metadata": {},
   "outputs": [
    {
     "data": {
      "text/plain": [
       "array([[0.34719497, 0.56476413, 0.59675546, ..., 0.65259214, 0.65162593,\n",
       "        0.65323289],\n",
       "       [0.27615781, 0.4349669 , 0.46984193, ..., 0.50896422, 0.50728579,\n",
       "        0.50823157],\n",
       "       [0.31514442, 0.40544087, 0.43386179, ..., 0.37764836, 0.37356378,\n",
       "        0.37509872],\n",
       "       [0.34567409, 0.528719  , 0.61760166, ..., 0.63064538, 0.62726544,\n",
       "        0.62483208],\n",
       "       [0.17426612, 0.26850062, 0.26053611, ..., 0.16753052, 0.16827706,\n",
       "        0.16936977]])"
      ]
     },
     "execution_count": 129,
     "metadata": {},
     "output_type": "execute_result"
    }
   ],
   "source": [
    "np.array(temp_groups)"
   ]
  },
  {
   "cell_type": "code",
   "execution_count": 134,
   "metadata": {},
   "outputs": [
    {
     "data": {
      "text/plain": [
       "array([0.34719497, 0.63436424, 0.64096079, ..., 0.16753052, 0.16827706,\n",
       "       0.16936977])"
      ]
     },
     "execution_count": 134,
     "metadata": {},
     "output_type": "execute_result"
    }
   ],
   "source": [
    "a"
   ]
  },
  {
   "cell_type": "code",
   "execution_count": 133,
   "metadata": {},
   "outputs": [],
   "source": [
    "a = np.delete(np.array(temp_groups), [1,2,3])"
   ]
  },
  {
   "cell_type": "code",
   "execution_count": 49,
   "metadata": {},
   "outputs": [],
   "source": [
    "from tsfresh.examples.har_dataset import download_har_dataset, load_har_dataset, load_har_classes\n",
    "from tsfresh import extract_features, extract_relevant_features, select_features\n",
    "from tsfresh.utilities.dataframe_functions import impute\n",
    "from tsfresh.feature_extraction import settings"
   ]
  },
  {
   "cell_type": "code",
   "execution_count": 41,
   "metadata": {},
   "outputs": [
    {
     "data": {
      "text/html": [
       "<div>\n",
       "<style scoped>\n",
       "    .dataframe tbody tr th:only-of-type {\n",
       "        vertical-align: middle;\n",
       "    }\n",
       "\n",
       "    .dataframe tbody tr th {\n",
       "        vertical-align: top;\n",
       "    }\n",
       "\n",
       "    .dataframe thead th {\n",
       "        text-align: right;\n",
       "    }\n",
       "</style>\n",
       "<table border=\"1\" class=\"dataframe\">\n",
       "  <thead>\n",
       "    <tr style=\"text-align: right;\">\n",
       "      <th>REGNUM</th>\n",
       "      <th>913</th>\n",
       "      <th>1490</th>\n",
       "      <th>1879</th>\n",
       "      <th>2021</th>\n",
       "      <th>2079</th>\n",
       "      <th>2213</th>\n",
       "      <th>2765</th>\n",
       "      <th>2996</th>\n",
       "      <th>3918</th>\n",
       "      <th>5062</th>\n",
       "      <th>...</th>\n",
       "      <th>4270640</th>\n",
       "      <th>4277955</th>\n",
       "      <th>4279667</th>\n",
       "      <th>4282458</th>\n",
       "      <th>4283303</th>\n",
       "      <th>4288428</th>\n",
       "      <th>4291012</th>\n",
       "      <th>4295871</th>\n",
       "      <th>4300670</th>\n",
       "      <th>4300893</th>\n",
       "    </tr>\n",
       "    <tr>\n",
       "      <th>date</th>\n",
       "      <th></th>\n",
       "      <th></th>\n",
       "      <th></th>\n",
       "      <th></th>\n",
       "      <th></th>\n",
       "      <th></th>\n",
       "      <th></th>\n",
       "      <th></th>\n",
       "      <th></th>\n",
       "      <th></th>\n",
       "      <th></th>\n",
       "      <th></th>\n",
       "      <th></th>\n",
       "      <th></th>\n",
       "      <th></th>\n",
       "      <th></th>\n",
       "      <th></th>\n",
       "      <th></th>\n",
       "      <th></th>\n",
       "      <th></th>\n",
       "      <th></th>\n",
       "    </tr>\n",
       "  </thead>\n",
       "  <tbody>\n",
       "    <tr>\n",
       "      <th>2020-01-01</th>\n",
       "      <td>1424.68</td>\n",
       "      <td>0.00</td>\n",
       "      <td>0.00</td>\n",
       "      <td>498.00</td>\n",
       "      <td>0.00</td>\n",
       "      <td>0.00</td>\n",
       "      <td>0.0</td>\n",
       "      <td>0.00</td>\n",
       "      <td>99.99</td>\n",
       "      <td>0.0</td>\n",
       "      <td>...</td>\n",
       "      <td>0.0</td>\n",
       "      <td>0.00</td>\n",
       "      <td>0.0</td>\n",
       "      <td>0.0</td>\n",
       "      <td>0.00</td>\n",
       "      <td>0.0</td>\n",
       "      <td>0.0</td>\n",
       "      <td>0.0</td>\n",
       "      <td>0.00</td>\n",
       "      <td>0.0</td>\n",
       "    </tr>\n",
       "    <tr>\n",
       "      <th>2020-01-02</th>\n",
       "      <td>199.00</td>\n",
       "      <td>0.00</td>\n",
       "      <td>0.00</td>\n",
       "      <td>976.72</td>\n",
       "      <td>326.49</td>\n",
       "      <td>4359.42</td>\n",
       "      <td>0.0</td>\n",
       "      <td>1273.40</td>\n",
       "      <td>0.00</td>\n",
       "      <td>0.0</td>\n",
       "      <td>...</td>\n",
       "      <td>0.0</td>\n",
       "      <td>0.00</td>\n",
       "      <td>0.0</td>\n",
       "      <td>0.0</td>\n",
       "      <td>0.00</td>\n",
       "      <td>0.0</td>\n",
       "      <td>0.0</td>\n",
       "      <td>0.0</td>\n",
       "      <td>0.00</td>\n",
       "      <td>0.0</td>\n",
       "    </tr>\n",
       "    <tr>\n",
       "      <th>2020-01-03</th>\n",
       "      <td>213.00</td>\n",
       "      <td>1272.43</td>\n",
       "      <td>0.00</td>\n",
       "      <td>1031.99</td>\n",
       "      <td>835.97</td>\n",
       "      <td>5630.93</td>\n",
       "      <td>0.0</td>\n",
       "      <td>0.00</td>\n",
       "      <td>720.52</td>\n",
       "      <td>0.0</td>\n",
       "      <td>...</td>\n",
       "      <td>0.0</td>\n",
       "      <td>0.00</td>\n",
       "      <td>0.0</td>\n",
       "      <td>0.0</td>\n",
       "      <td>0.00</td>\n",
       "      <td>0.0</td>\n",
       "      <td>0.0</td>\n",
       "      <td>0.0</td>\n",
       "      <td>0.00</td>\n",
       "      <td>0.0</td>\n",
       "    </tr>\n",
       "    <tr>\n",
       "      <th>2020-01-04</th>\n",
       "      <td>1313.00</td>\n",
       "      <td>0.00</td>\n",
       "      <td>105.00</td>\n",
       "      <td>229.00</td>\n",
       "      <td>1883.96</td>\n",
       "      <td>912.22</td>\n",
       "      <td>0.0</td>\n",
       "      <td>368.86</td>\n",
       "      <td>0.00</td>\n",
       "      <td>0.0</td>\n",
       "      <td>...</td>\n",
       "      <td>0.0</td>\n",
       "      <td>0.00</td>\n",
       "      <td>0.0</td>\n",
       "      <td>0.0</td>\n",
       "      <td>0.00</td>\n",
       "      <td>0.0</td>\n",
       "      <td>0.0</td>\n",
       "      <td>0.0</td>\n",
       "      <td>0.00</td>\n",
       "      <td>0.0</td>\n",
       "    </tr>\n",
       "    <tr>\n",
       "      <th>2020-01-05</th>\n",
       "      <td>1376.36</td>\n",
       "      <td>0.00</td>\n",
       "      <td>99.00</td>\n",
       "      <td>2399.85</td>\n",
       "      <td>0.00</td>\n",
       "      <td>189.00</td>\n",
       "      <td>0.0</td>\n",
       "      <td>0.00</td>\n",
       "      <td>1312.60</td>\n",
       "      <td>0.0</td>\n",
       "      <td>...</td>\n",
       "      <td>297.0</td>\n",
       "      <td>0.00</td>\n",
       "      <td>0.0</td>\n",
       "      <td>0.0</td>\n",
       "      <td>0.00</td>\n",
       "      <td>0.0</td>\n",
       "      <td>0.0</td>\n",
       "      <td>0.0</td>\n",
       "      <td>0.00</td>\n",
       "      <td>0.0</td>\n",
       "    </tr>\n",
       "    <tr>\n",
       "      <th>...</th>\n",
       "      <td>...</td>\n",
       "      <td>...</td>\n",
       "      <td>...</td>\n",
       "      <td>...</td>\n",
       "      <td>...</td>\n",
       "      <td>...</td>\n",
       "      <td>...</td>\n",
       "      <td>...</td>\n",
       "      <td>...</td>\n",
       "      <td>...</td>\n",
       "      <td>...</td>\n",
       "      <td>...</td>\n",
       "      <td>...</td>\n",
       "      <td>...</td>\n",
       "      <td>...</td>\n",
       "      <td>...</td>\n",
       "      <td>...</td>\n",
       "      <td>...</td>\n",
       "      <td>...</td>\n",
       "      <td>...</td>\n",
       "      <td>...</td>\n",
       "    </tr>\n",
       "    <tr>\n",
       "      <th>2020-09-26</th>\n",
       "      <td>719.81</td>\n",
       "      <td>161.17</td>\n",
       "      <td>536.00</td>\n",
       "      <td>856.00</td>\n",
       "      <td>1376.27</td>\n",
       "      <td>0.00</td>\n",
       "      <td>0.0</td>\n",
       "      <td>576.00</td>\n",
       "      <td>1165.35</td>\n",
       "      <td>0.0</td>\n",
       "      <td>...</td>\n",
       "      <td>562.0</td>\n",
       "      <td>0.00</td>\n",
       "      <td>0.0</td>\n",
       "      <td>0.0</td>\n",
       "      <td>5453.31</td>\n",
       "      <td>40.0</td>\n",
       "      <td>0.0</td>\n",
       "      <td>0.0</td>\n",
       "      <td>53.99</td>\n",
       "      <td>0.0</td>\n",
       "    </tr>\n",
       "    <tr>\n",
       "      <th>2020-09-27</th>\n",
       "      <td>0.00</td>\n",
       "      <td>0.00</td>\n",
       "      <td>659.99</td>\n",
       "      <td>1452.44</td>\n",
       "      <td>1626.97</td>\n",
       "      <td>0.00</td>\n",
       "      <td>0.0</td>\n",
       "      <td>117.00</td>\n",
       "      <td>0.00</td>\n",
       "      <td>0.0</td>\n",
       "      <td>...</td>\n",
       "      <td>0.0</td>\n",
       "      <td>639.98</td>\n",
       "      <td>0.0</td>\n",
       "      <td>0.0</td>\n",
       "      <td>0.00</td>\n",
       "      <td>0.0</td>\n",
       "      <td>0.0</td>\n",
       "      <td>0.0</td>\n",
       "      <td>0.00</td>\n",
       "      <td>0.0</td>\n",
       "    </tr>\n",
       "    <tr>\n",
       "      <th>2020-09-28</th>\n",
       "      <td>304.90</td>\n",
       "      <td>443.00</td>\n",
       "      <td>1075.34</td>\n",
       "      <td>1719.80</td>\n",
       "      <td>2469.33</td>\n",
       "      <td>0.00</td>\n",
       "      <td>55.0</td>\n",
       "      <td>0.00</td>\n",
       "      <td>470.00</td>\n",
       "      <td>0.0</td>\n",
       "      <td>...</td>\n",
       "      <td>0.0</td>\n",
       "      <td>0.00</td>\n",
       "      <td>0.0</td>\n",
       "      <td>0.0</td>\n",
       "      <td>2207.32</td>\n",
       "      <td>0.0</td>\n",
       "      <td>0.0</td>\n",
       "      <td>0.0</td>\n",
       "      <td>0.00</td>\n",
       "      <td>0.0</td>\n",
       "    </tr>\n",
       "    <tr>\n",
       "      <th>2020-09-29</th>\n",
       "      <td>1331.45</td>\n",
       "      <td>0.00</td>\n",
       "      <td>264.00</td>\n",
       "      <td>380.00</td>\n",
       "      <td>971.95</td>\n",
       "      <td>130.00</td>\n",
       "      <td>0.0</td>\n",
       "      <td>0.00</td>\n",
       "      <td>158.00</td>\n",
       "      <td>0.0</td>\n",
       "      <td>...</td>\n",
       "      <td>0.0</td>\n",
       "      <td>179.26</td>\n",
       "      <td>0.0</td>\n",
       "      <td>0.0</td>\n",
       "      <td>1046.66</td>\n",
       "      <td>0.0</td>\n",
       "      <td>0.0</td>\n",
       "      <td>0.0</td>\n",
       "      <td>497.11</td>\n",
       "      <td>0.0</td>\n",
       "    </tr>\n",
       "    <tr>\n",
       "      <th>2020-09-30</th>\n",
       "      <td>0.00</td>\n",
       "      <td>0.00</td>\n",
       "      <td>0.00</td>\n",
       "      <td>0.00</td>\n",
       "      <td>0.00</td>\n",
       "      <td>0.00</td>\n",
       "      <td>0.0</td>\n",
       "      <td>0.00</td>\n",
       "      <td>24.00</td>\n",
       "      <td>0.0</td>\n",
       "      <td>...</td>\n",
       "      <td>0.0</td>\n",
       "      <td>0.00</td>\n",
       "      <td>0.0</td>\n",
       "      <td>0.0</td>\n",
       "      <td>0.00</td>\n",
       "      <td>0.0</td>\n",
       "      <td>0.0</td>\n",
       "      <td>0.0</td>\n",
       "      <td>0.00</td>\n",
       "      <td>0.0</td>\n",
       "    </tr>\n",
       "  </tbody>\n",
       "</table>\n",
       "<p>274 rows × 7265 columns</p>\n",
       "</div>"
      ],
      "text/plain": [
       "REGNUM      913      1490     1879     2021     2079     2213     2765     \\\n",
       "date                                                                        \n",
       "2020-01-01  1424.68     0.00     0.00   498.00     0.00     0.00      0.0   \n",
       "2020-01-02   199.00     0.00     0.00   976.72   326.49  4359.42      0.0   \n",
       "2020-01-03   213.00  1272.43     0.00  1031.99   835.97  5630.93      0.0   \n",
       "2020-01-04  1313.00     0.00   105.00   229.00  1883.96   912.22      0.0   \n",
       "2020-01-05  1376.36     0.00    99.00  2399.85     0.00   189.00      0.0   \n",
       "...             ...      ...      ...      ...      ...      ...      ...   \n",
       "2020-09-26   719.81   161.17   536.00   856.00  1376.27     0.00      0.0   \n",
       "2020-09-27     0.00     0.00   659.99  1452.44  1626.97     0.00      0.0   \n",
       "2020-09-28   304.90   443.00  1075.34  1719.80  2469.33     0.00     55.0   \n",
       "2020-09-29  1331.45     0.00   264.00   380.00   971.95   130.00      0.0   \n",
       "2020-09-30     0.00     0.00     0.00     0.00     0.00     0.00      0.0   \n",
       "\n",
       "REGNUM      2996     3918     5062     ...  4270640  4277955  4279667  \\\n",
       "date                                   ...                              \n",
       "2020-01-01     0.00    99.99      0.0  ...      0.0     0.00      0.0   \n",
       "2020-01-02  1273.40     0.00      0.0  ...      0.0     0.00      0.0   \n",
       "2020-01-03     0.00   720.52      0.0  ...      0.0     0.00      0.0   \n",
       "2020-01-04   368.86     0.00      0.0  ...      0.0     0.00      0.0   \n",
       "2020-01-05     0.00  1312.60      0.0  ...    297.0     0.00      0.0   \n",
       "...             ...      ...      ...  ...      ...      ...      ...   \n",
       "2020-09-26   576.00  1165.35      0.0  ...    562.0     0.00      0.0   \n",
       "2020-09-27   117.00     0.00      0.0  ...      0.0   639.98      0.0   \n",
       "2020-09-28     0.00   470.00      0.0  ...      0.0     0.00      0.0   \n",
       "2020-09-29     0.00   158.00      0.0  ...      0.0   179.26      0.0   \n",
       "2020-09-30     0.00    24.00      0.0  ...      0.0     0.00      0.0   \n",
       "\n",
       "REGNUM      4282458  4283303  4288428  4291012  4295871  4300670  4300893  \n",
       "date                                                                       \n",
       "2020-01-01      0.0     0.00      0.0      0.0      0.0     0.00      0.0  \n",
       "2020-01-02      0.0     0.00      0.0      0.0      0.0     0.00      0.0  \n",
       "2020-01-03      0.0     0.00      0.0      0.0      0.0     0.00      0.0  \n",
       "2020-01-04      0.0     0.00      0.0      0.0      0.0     0.00      0.0  \n",
       "2020-01-05      0.0     0.00      0.0      0.0      0.0     0.00      0.0  \n",
       "...             ...      ...      ...      ...      ...      ...      ...  \n",
       "2020-09-26      0.0  5453.31     40.0      0.0      0.0    53.99      0.0  \n",
       "2020-09-27      0.0     0.00      0.0      0.0      0.0     0.00      0.0  \n",
       "2020-09-28      0.0  2207.32      0.0      0.0      0.0     0.00      0.0  \n",
       "2020-09-29      0.0  1046.66      0.0      0.0      0.0   497.11      0.0  \n",
       "2020-09-30      0.0     0.00      0.0      0.0      0.0     0.00      0.0  \n",
       "\n",
       "[274 rows x 7265 columns]"
      ]
     },
     "execution_count": 41,
     "metadata": {},
     "output_type": "execute_result"
    }
   ],
   "source": [
    "df_wide_food"
   ]
  },
  {
   "cell_type": "code",
   "execution_count": 46,
   "metadata": {},
   "outputs": [],
   "source": [
    "df_long_food = pd.melt(df_wide_food.reset_index(), id_vars='date', value_vars=df_wide_food.columns.tolist())\n"
   ]
  },
  {
   "cell_type": "code",
   "execution_count": null,
   "metadata": {},
   "outputs": [],
   "source": [
    "settings_efficient = settings.EfficientFCParameters()\n",
    "settings_efficient"
   ]
  },
  {
   "cell_type": "code",
   "execution_count": 60,
   "metadata": {},
   "outputs": [
    {
     "name": "stderr",
     "output_type": "stream",
     "text": [
      "Feature Extraction: 100%|██████████| 40/40 [03:44<00:00,  5.61s/it]\n"
     ]
    },
    {
     "name": "stdout",
     "output_type": "stream",
     "text": [
      "(7265, 783)\n"
     ]
    }
   ],
   "source": [
    "features_df = extract_features(df_long_food, column_id='REGNUM',column_sort=\"date\", impute_function=impute, default_fc_parameters=settings_efficient)\n",
    "print(features_df.shape)"
   ]
  },
  {
   "cell_type": "code",
   "execution_count": 66,
   "metadata": {},
   "outputs": [
    {
     "data": {
      "text/html": [
       "<div>\n",
       "<style scoped>\n",
       "    .dataframe tbody tr th:only-of-type {\n",
       "        vertical-align: middle;\n",
       "    }\n",
       "\n",
       "    .dataframe tbody tr th {\n",
       "        vertical-align: top;\n",
       "    }\n",
       "\n",
       "    .dataframe thead th {\n",
       "        text-align: right;\n",
       "    }\n",
       "</style>\n",
       "<table border=\"1\" class=\"dataframe\">\n",
       "  <thead>\n",
       "    <tr style=\"text-align: right;\">\n",
       "      <th></th>\n",
       "      <th>value__variance_larger_than_standard_deviation</th>\n",
       "      <th>value__has_duplicate_max</th>\n",
       "      <th>value__has_duplicate_min</th>\n",
       "      <th>value__has_duplicate</th>\n",
       "      <th>value__sum_values</th>\n",
       "      <th>value__abs_energy</th>\n",
       "      <th>value__mean_abs_change</th>\n",
       "      <th>value__mean_change</th>\n",
       "      <th>value__mean_second_derivative_central</th>\n",
       "      <th>value__median</th>\n",
       "      <th>...</th>\n",
       "      <th>value__permutation_entropy__dimension_6__tau_1</th>\n",
       "      <th>value__permutation_entropy__dimension_7__tau_1</th>\n",
       "      <th>value__query_similarity_count__query_None__threshold_0.0</th>\n",
       "      <th>value__matrix_profile__feature_\"min\"__threshold_0.98</th>\n",
       "      <th>value__matrix_profile__feature_\"max\"__threshold_0.98</th>\n",
       "      <th>value__matrix_profile__feature_\"mean\"__threshold_0.98</th>\n",
       "      <th>value__matrix_profile__feature_\"median\"__threshold_0.98</th>\n",
       "      <th>value__matrix_profile__feature_\"25\"__threshold_0.98</th>\n",
       "      <th>value__matrix_profile__feature_\"75\"__threshold_0.98</th>\n",
       "      <th>value__mean_n_absolute_max__number_of_maxima_7</th>\n",
       "    </tr>\n",
       "  </thead>\n",
       "  <tbody>\n",
       "    <tr>\n",
       "      <th>913</th>\n",
       "      <td>1.0</td>\n",
       "      <td>0.0</td>\n",
       "      <td>1.0</td>\n",
       "      <td>1.0</td>\n",
       "      <td>222103.18</td>\n",
       "      <td>3.551981e+08</td>\n",
       "      <td>851.002711</td>\n",
       "      <td>-5.218608</td>\n",
       "      <td>-0.194430</td>\n",
       "      <td>679.000</td>\n",
       "      <td>...</td>\n",
       "      <td>5.277720</td>\n",
       "      <td>5.521789</td>\n",
       "      <td>0.0</td>\n",
       "      <td>1.030569</td>\n",
       "      <td>3.548021</td>\n",
       "      <td>2.343192</td>\n",
       "      <td>2.381302</td>\n",
       "      <td>1.970378</td>\n",
       "      <td>2.750246</td>\n",
       "      <td>3655.168571</td>\n",
       "    </tr>\n",
       "    <tr>\n",
       "      <th>1490</th>\n",
       "      <td>1.0</td>\n",
       "      <td>0.0</td>\n",
       "      <td>1.0</td>\n",
       "      <td>1.0</td>\n",
       "      <td>166221.44</td>\n",
       "      <td>4.149439e+08</td>\n",
       "      <td>735.293114</td>\n",
       "      <td>0.000000</td>\n",
       "      <td>0.000000</td>\n",
       "      <td>314.545</td>\n",
       "      <td>...</td>\n",
       "      <td>5.043144</td>\n",
       "      <td>5.357854</td>\n",
       "      <td>0.0</td>\n",
       "      <td>0.990265</td>\n",
       "      <td>3.754970</td>\n",
       "      <td>2.741741</td>\n",
       "      <td>2.765716</td>\n",
       "      <td>2.406220</td>\n",
       "      <td>3.157489</td>\n",
       "      <td>4540.915714</td>\n",
       "    </tr>\n",
       "    <tr>\n",
       "      <th>1879</th>\n",
       "      <td>1.0</td>\n",
       "      <td>0.0</td>\n",
       "      <td>1.0</td>\n",
       "      <td>1.0</td>\n",
       "      <td>102479.49</td>\n",
       "      <td>8.085628e+07</td>\n",
       "      <td>373.492894</td>\n",
       "      <td>0.000000</td>\n",
       "      <td>-0.485294</td>\n",
       "      <td>266.440</td>\n",
       "      <td>...</td>\n",
       "      <td>5.315058</td>\n",
       "      <td>5.518569</td>\n",
       "      <td>0.0</td>\n",
       "      <td>0.788345</td>\n",
       "      <td>2.428468</td>\n",
       "      <td>1.613044</td>\n",
       "      <td>1.612647</td>\n",
       "      <td>1.348485</td>\n",
       "      <td>1.861277</td>\n",
       "      <td>1784.228571</td>\n",
       "    </tr>\n",
       "    <tr>\n",
       "      <th>2021</th>\n",
       "      <td>1.0</td>\n",
       "      <td>0.0</td>\n",
       "      <td>1.0</td>\n",
       "      <td>1.0</td>\n",
       "      <td>311995.42</td>\n",
       "      <td>5.600891e+08</td>\n",
       "      <td>829.015165</td>\n",
       "      <td>-1.824176</td>\n",
       "      <td>-1.578529</td>\n",
       "      <td>1101.205</td>\n",
       "      <td>...</td>\n",
       "      <td>5.313113</td>\n",
       "      <td>5.528914</td>\n",
       "      <td>0.0</td>\n",
       "      <td>1.030569</td>\n",
       "      <td>3.548021</td>\n",
       "      <td>2.343192</td>\n",
       "      <td>2.381302</td>\n",
       "      <td>1.970378</td>\n",
       "      <td>2.750246</td>\n",
       "      <td>3836.144286</td>\n",
       "    </tr>\n",
       "    <tr>\n",
       "      <th>2079</th>\n",
       "      <td>1.0</td>\n",
       "      <td>0.0</td>\n",
       "      <td>1.0</td>\n",
       "      <td>1.0</td>\n",
       "      <td>368877.08</td>\n",
       "      <td>8.751831e+08</td>\n",
       "      <td>1220.948864</td>\n",
       "      <td>0.000000</td>\n",
       "      <td>-2.386838</td>\n",
       "      <td>1158.500</td>\n",
       "      <td>...</td>\n",
       "      <td>5.356286</td>\n",
       "      <td>5.552825</td>\n",
       "      <td>0.0</td>\n",
       "      <td>0.925926</td>\n",
       "      <td>2.620172</td>\n",
       "      <td>1.866366</td>\n",
       "      <td>1.866619</td>\n",
       "      <td>1.660032</td>\n",
       "      <td>2.152555</td>\n",
       "      <td>5043.598571</td>\n",
       "    </tr>\n",
       "    <tr>\n",
       "      <th>...</th>\n",
       "      <td>...</td>\n",
       "      <td>...</td>\n",
       "      <td>...</td>\n",
       "      <td>...</td>\n",
       "      <td>...</td>\n",
       "      <td>...</td>\n",
       "      <td>...</td>\n",
       "      <td>...</td>\n",
       "      <td>...</td>\n",
       "      <td>...</td>\n",
       "      <td>...</td>\n",
       "      <td>...</td>\n",
       "      <td>...</td>\n",
       "      <td>...</td>\n",
       "      <td>...</td>\n",
       "      <td>...</td>\n",
       "      <td>...</td>\n",
       "      <td>...</td>\n",
       "      <td>...</td>\n",
       "      <td>...</td>\n",
       "      <td>...</td>\n",
       "    </tr>\n",
       "    <tr>\n",
       "      <th>4288428</th>\n",
       "      <td>1.0</td>\n",
       "      <td>0.0</td>\n",
       "      <td>1.0</td>\n",
       "      <td>1.0</td>\n",
       "      <td>37087.65</td>\n",
       "      <td>5.361949e+07</td>\n",
       "      <td>209.077289</td>\n",
       "      <td>0.000000</td>\n",
       "      <td>0.000000</td>\n",
       "      <td>0.000</td>\n",
       "      <td>...</td>\n",
       "      <td>2.711979</td>\n",
       "      <td>3.007784</td>\n",
       "      <td>0.0</td>\n",
       "      <td>1.141988</td>\n",
       "      <td>5.248029</td>\n",
       "      <td>3.479374</td>\n",
       "      <td>3.381399</td>\n",
       "      <td>2.511891</td>\n",
       "      <td>4.663522</td>\n",
       "      <td>2374.114286</td>\n",
       "    </tr>\n",
       "    <tr>\n",
       "      <th>4291012</th>\n",
       "      <td>1.0</td>\n",
       "      <td>0.0</td>\n",
       "      <td>1.0</td>\n",
       "      <td>1.0</td>\n",
       "      <td>6807.64</td>\n",
       "      <td>8.893104e+06</td>\n",
       "      <td>29.847326</td>\n",
       "      <td>0.000000</td>\n",
       "      <td>0.000000</td>\n",
       "      <td>0.000</td>\n",
       "      <td>...</td>\n",
       "      <td>0.447782</td>\n",
       "      <td>0.502959</td>\n",
       "      <td>0.0</td>\n",
       "      <td>1.848149</td>\n",
       "      <td>5.291503</td>\n",
       "      <td>5.032402</td>\n",
       "      <td>5.291503</td>\n",
       "      <td>5.291503</td>\n",
       "      <td>5.291503</td>\n",
       "      <td>972.520000</td>\n",
       "    </tr>\n",
       "    <tr>\n",
       "      <th>4295871</th>\n",
       "      <td>1.0</td>\n",
       "      <td>0.0</td>\n",
       "      <td>1.0</td>\n",
       "      <td>1.0</td>\n",
       "      <td>108270.13</td>\n",
       "      <td>1.157142e+08</td>\n",
       "      <td>292.937656</td>\n",
       "      <td>0.000000</td>\n",
       "      <td>0.000000</td>\n",
       "      <td>126.750</td>\n",
       "      <td>...</td>\n",
       "      <td>4.033691</td>\n",
       "      <td>4.279863</td>\n",
       "      <td>0.0</td>\n",
       "      <td>2.237698</td>\n",
       "      <td>8.000000</td>\n",
       "      <td>5.287536</td>\n",
       "      <td>5.195791</td>\n",
       "      <td>4.887836</td>\n",
       "      <td>5.640287</td>\n",
       "      <td>1947.468571</td>\n",
       "    </tr>\n",
       "    <tr>\n",
       "      <th>4300670</th>\n",
       "      <td>1.0</td>\n",
       "      <td>0.0</td>\n",
       "      <td>1.0</td>\n",
       "      <td>1.0</td>\n",
       "      <td>118375.73</td>\n",
       "      <td>1.158071e+08</td>\n",
       "      <td>399.730183</td>\n",
       "      <td>0.000000</td>\n",
       "      <td>-0.913805</td>\n",
       "      <td>292.735</td>\n",
       "      <td>...</td>\n",
       "      <td>4.946330</td>\n",
       "      <td>5.117749</td>\n",
       "      <td>0.0</td>\n",
       "      <td>0.880856</td>\n",
       "      <td>4.472136</td>\n",
       "      <td>2.033524</td>\n",
       "      <td>1.792966</td>\n",
       "      <td>1.551484</td>\n",
       "      <td>2.056468</td>\n",
       "      <td>2053.097143</td>\n",
       "    </tr>\n",
       "    <tr>\n",
       "      <th>4300893</th>\n",
       "      <td>1.0</td>\n",
       "      <td>0.0</td>\n",
       "      <td>1.0</td>\n",
       "      <td>1.0</td>\n",
       "      <td>61267.63</td>\n",
       "      <td>9.048525e+07</td>\n",
       "      <td>255.680366</td>\n",
       "      <td>0.000000</td>\n",
       "      <td>0.000000</td>\n",
       "      <td>0.000</td>\n",
       "      <td>...</td>\n",
       "      <td>2.915992</td>\n",
       "      <td>3.237343</td>\n",
       "      <td>0.0</td>\n",
       "      <td>5.779328</td>\n",
       "      <td>10.848374</td>\n",
       "      <td>8.786520</td>\n",
       "      <td>8.835034</td>\n",
       "      <td>8.182980</td>\n",
       "      <td>9.325199</td>\n",
       "      <td>2690.997143</td>\n",
       "    </tr>\n",
       "  </tbody>\n",
       "</table>\n",
       "<p>7265 rows × 783 columns</p>\n",
       "</div>"
      ],
      "text/plain": [
       "         value__variance_larger_than_standard_deviation  \\\n",
       "913                                                 1.0   \n",
       "1490                                                1.0   \n",
       "1879                                                1.0   \n",
       "2021                                                1.0   \n",
       "2079                                                1.0   \n",
       "...                                                 ...   \n",
       "4288428                                             1.0   \n",
       "4291012                                             1.0   \n",
       "4295871                                             1.0   \n",
       "4300670                                             1.0   \n",
       "4300893                                             1.0   \n",
       "\n",
       "         value__has_duplicate_max  value__has_duplicate_min  \\\n",
       "913                           0.0                       1.0   \n",
       "1490                          0.0                       1.0   \n",
       "1879                          0.0                       1.0   \n",
       "2021                          0.0                       1.0   \n",
       "2079                          0.0                       1.0   \n",
       "...                           ...                       ...   \n",
       "4288428                       0.0                       1.0   \n",
       "4291012                       0.0                       1.0   \n",
       "4295871                       0.0                       1.0   \n",
       "4300670                       0.0                       1.0   \n",
       "4300893                       0.0                       1.0   \n",
       "\n",
       "         value__has_duplicate  value__sum_values  value__abs_energy  \\\n",
       "913                       1.0          222103.18       3.551981e+08   \n",
       "1490                      1.0          166221.44       4.149439e+08   \n",
       "1879                      1.0          102479.49       8.085628e+07   \n",
       "2021                      1.0          311995.42       5.600891e+08   \n",
       "2079                      1.0          368877.08       8.751831e+08   \n",
       "...                       ...                ...                ...   \n",
       "4288428                   1.0           37087.65       5.361949e+07   \n",
       "4291012                   1.0            6807.64       8.893104e+06   \n",
       "4295871                   1.0          108270.13       1.157142e+08   \n",
       "4300670                   1.0          118375.73       1.158071e+08   \n",
       "4300893                   1.0           61267.63       9.048525e+07   \n",
       "\n",
       "         value__mean_abs_change  value__mean_change  \\\n",
       "913                  851.002711           -5.218608   \n",
       "1490                 735.293114            0.000000   \n",
       "1879                 373.492894            0.000000   \n",
       "2021                 829.015165           -1.824176   \n",
       "2079                1220.948864            0.000000   \n",
       "...                         ...                 ...   \n",
       "4288428              209.077289            0.000000   \n",
       "4291012               29.847326            0.000000   \n",
       "4295871              292.937656            0.000000   \n",
       "4300670              399.730183            0.000000   \n",
       "4300893              255.680366            0.000000   \n",
       "\n",
       "         value__mean_second_derivative_central  value__median  ...  \\\n",
       "913                                  -0.194430        679.000  ...   \n",
       "1490                                  0.000000        314.545  ...   \n",
       "1879                                 -0.485294        266.440  ...   \n",
       "2021                                 -1.578529       1101.205  ...   \n",
       "2079                                 -2.386838       1158.500  ...   \n",
       "...                                        ...            ...  ...   \n",
       "4288428                               0.000000          0.000  ...   \n",
       "4291012                               0.000000          0.000  ...   \n",
       "4295871                               0.000000        126.750  ...   \n",
       "4300670                              -0.913805        292.735  ...   \n",
       "4300893                               0.000000          0.000  ...   \n",
       "\n",
       "         value__permutation_entropy__dimension_6__tau_1  \\\n",
       "913                                            5.277720   \n",
       "1490                                           5.043144   \n",
       "1879                                           5.315058   \n",
       "2021                                           5.313113   \n",
       "2079                                           5.356286   \n",
       "...                                                 ...   \n",
       "4288428                                        2.711979   \n",
       "4291012                                        0.447782   \n",
       "4295871                                        4.033691   \n",
       "4300670                                        4.946330   \n",
       "4300893                                        2.915992   \n",
       "\n",
       "         value__permutation_entropy__dimension_7__tau_1  \\\n",
       "913                                            5.521789   \n",
       "1490                                           5.357854   \n",
       "1879                                           5.518569   \n",
       "2021                                           5.528914   \n",
       "2079                                           5.552825   \n",
       "...                                                 ...   \n",
       "4288428                                        3.007784   \n",
       "4291012                                        0.502959   \n",
       "4295871                                        4.279863   \n",
       "4300670                                        5.117749   \n",
       "4300893                                        3.237343   \n",
       "\n",
       "         value__query_similarity_count__query_None__threshold_0.0  \\\n",
       "913                                                    0.0          \n",
       "1490                                                   0.0          \n",
       "1879                                                   0.0          \n",
       "2021                                                   0.0          \n",
       "2079                                                   0.0          \n",
       "...                                                    ...          \n",
       "4288428                                                0.0          \n",
       "4291012                                                0.0          \n",
       "4295871                                                0.0          \n",
       "4300670                                                0.0          \n",
       "4300893                                                0.0          \n",
       "\n",
       "         value__matrix_profile__feature_\"min\"__threshold_0.98  \\\n",
       "913                                               1.030569      \n",
       "1490                                              0.990265      \n",
       "1879                                              0.788345      \n",
       "2021                                              1.030569      \n",
       "2079                                              0.925926      \n",
       "...                                                    ...      \n",
       "4288428                                           1.141988      \n",
       "4291012                                           1.848149      \n",
       "4295871                                           2.237698      \n",
       "4300670                                           0.880856      \n",
       "4300893                                           5.779328      \n",
       "\n",
       "         value__matrix_profile__feature_\"max\"__threshold_0.98  \\\n",
       "913                                               3.548021      \n",
       "1490                                              3.754970      \n",
       "1879                                              2.428468      \n",
       "2021                                              3.548021      \n",
       "2079                                              2.620172      \n",
       "...                                                    ...      \n",
       "4288428                                           5.248029      \n",
       "4291012                                           5.291503      \n",
       "4295871                                           8.000000      \n",
       "4300670                                           4.472136      \n",
       "4300893                                          10.848374      \n",
       "\n",
       "         value__matrix_profile__feature_\"mean\"__threshold_0.98  \\\n",
       "913                                               2.343192       \n",
       "1490                                              2.741741       \n",
       "1879                                              1.613044       \n",
       "2021                                              2.343192       \n",
       "2079                                              1.866366       \n",
       "...                                                    ...       \n",
       "4288428                                           3.479374       \n",
       "4291012                                           5.032402       \n",
       "4295871                                           5.287536       \n",
       "4300670                                           2.033524       \n",
       "4300893                                           8.786520       \n",
       "\n",
       "         value__matrix_profile__feature_\"median\"__threshold_0.98  \\\n",
       "913                                               2.381302         \n",
       "1490                                              2.765716         \n",
       "1879                                              1.612647         \n",
       "2021                                              2.381302         \n",
       "2079                                              1.866619         \n",
       "...                                                    ...         \n",
       "4288428                                           3.381399         \n",
       "4291012                                           5.291503         \n",
       "4295871                                           5.195791         \n",
       "4300670                                           1.792966         \n",
       "4300893                                           8.835034         \n",
       "\n",
       "         value__matrix_profile__feature_\"25\"__threshold_0.98  \\\n",
       "913                                               1.970378     \n",
       "1490                                              2.406220     \n",
       "1879                                              1.348485     \n",
       "2021                                              1.970378     \n",
       "2079                                              1.660032     \n",
       "...                                                    ...     \n",
       "4288428                                           2.511891     \n",
       "4291012                                           5.291503     \n",
       "4295871                                           4.887836     \n",
       "4300670                                           1.551484     \n",
       "4300893                                           8.182980     \n",
       "\n",
       "         value__matrix_profile__feature_\"75\"__threshold_0.98  \\\n",
       "913                                               2.750246     \n",
       "1490                                              3.157489     \n",
       "1879                                              1.861277     \n",
       "2021                                              2.750246     \n",
       "2079                                              2.152555     \n",
       "...                                                    ...     \n",
       "4288428                                           4.663522     \n",
       "4291012                                           5.291503     \n",
       "4295871                                           5.640287     \n",
       "4300670                                           2.056468     \n",
       "4300893                                           9.325199     \n",
       "\n",
       "         value__mean_n_absolute_max__number_of_maxima_7  \n",
       "913                                         3655.168571  \n",
       "1490                                        4540.915714  \n",
       "1879                                        1784.228571  \n",
       "2021                                        3836.144286  \n",
       "2079                                        5043.598571  \n",
       "...                                                 ...  \n",
       "4288428                                     2374.114286  \n",
       "4291012                                      972.520000  \n",
       "4295871                                     1947.468571  \n",
       "4300670                                     2053.097143  \n",
       "4300893                                     2690.997143  \n",
       "\n",
       "[7265 rows x 783 columns]"
      ]
     },
     "execution_count": 66,
     "metadata": {},
     "output_type": "execute_result"
    }
   ],
   "source": [
    "features_df"
   ]
  },
  {
   "cell_type": "code",
   "execution_count": 62,
   "metadata": {},
   "outputs": [],
   "source": [
    "features_array = np.array(features_df)"
   ]
  },
  {
   "cell_type": "code",
   "execution_count": 65,
   "metadata": {},
   "outputs": [
    {
     "data": {
      "text/plain": [
       "(7265, 783)"
      ]
     },
     "execution_count": 65,
     "metadata": {},
     "output_type": "execute_result"
    }
   ],
   "source": [
    "features_array.shape"
   ]
  },
  {
   "cell_type": "markdown",
   "metadata": {},
   "source": [
    "### Kmeans\n"
   ]
  },
  {
   "cell_type": "code",
   "execution_count": 68,
   "metadata": {},
   "outputs": [],
   "source": [
    "from sklearn.cluster import KMeans\n",
    "model = KMeans(n_clusters=5)\n",
    "\n",
    "model.fit(features_array)\n",
    "\n",
    "clusters_Kmeans = model.predict(features_array)\n",
    "\n"
   ]
  },
  {
   "cell_type": "code",
   "execution_count": 75,
   "metadata": {},
   "outputs": [
    {
     "data": {
      "text/plain": [
       "Counter({0: 7259, 3: 1, 4: 3, 1: 1, 2: 1})"
      ]
     },
     "execution_count": 75,
     "metadata": {},
     "output_type": "execute_result"
    }
   ],
   "source": [
    "Counter(clusters_Kmeans)"
   ]
  },
  {
   "cell_type": "markdown",
   "metadata": {},
   "source": [
    "### Agglomerative Clustering\n"
   ]
  },
  {
   "cell_type": "code",
   "execution_count": 76,
   "metadata": {},
   "outputs": [],
   "source": [
    "from sklearn.cluster import AgglomerativeClustering\n",
    "model = AgglomerativeClustering(n_clusters=5)\n",
    "# fit model and predict clusters\n",
    "clusters_aglo = model.fit_predict(features_array)\n"
   ]
  },
  {
   "cell_type": "code",
   "execution_count": 77,
   "metadata": {},
   "outputs": [
    {
     "data": {
      "text/plain": [
       "Counter({0: 7259, 4: 1, 1: 3, 3: 1, 2: 1})"
      ]
     },
     "execution_count": 77,
     "metadata": {},
     "output_type": "execute_result"
    }
   ],
   "source": [
    "Counter(clusters_aglo)"
   ]
  },
  {
   "cell_type": "markdown",
   "metadata": {},
   "source": [
    "### DBSCAN"
   ]
  },
  {
   "cell_type": "code",
   "execution_count": 78,
   "metadata": {},
   "outputs": [
    {
     "data": {
      "text/plain": [
       "Counter({-1: 7265})"
      ]
     },
     "execution_count": 78,
     "metadata": {},
     "output_type": "execute_result"
    }
   ],
   "source": [
    "from sklearn.cluster import DBSCAN\n",
    "model = DBSCAN(eps=0.30, min_samples=9)\n",
    "clusters_dbscan = model.fit_predict(features_array)\n",
    "Counter(clusters_dbscan)\n"
   ]
  }
 ],
 "metadata": {
  "kernelspec": {
   "display_name": "Python 3.9.7 ('base')",
   "language": "python",
   "name": "python3"
  },
  "language_info": {
   "codemirror_mode": {
    "name": "ipython",
    "version": 3
   },
   "file_extension": ".py",
   "mimetype": "text/x-python",
   "name": "python",
   "nbconvert_exporter": "python",
   "pygments_lexer": "ipython3",
   "version": "3.9.7"
  },
  "orig_nbformat": 4,
  "vscode": {
   "interpreter": {
    "hash": "1133a71a1ea1957f99d77aa8df79443a56054a58dc52f3dd16ce72fc1cce1cf3"
   }
  }
 },
 "nbformat": 4,
 "nbformat_minor": 2
}
